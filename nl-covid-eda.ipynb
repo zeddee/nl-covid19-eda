{
 "cells": [
  {
   "cell_type": "markdown",
   "metadata": {
    "pycharm": {
     "name": "#%% md\n"
    }
   },
   "source": [
    "# NL COVID 19 data exploration\n",
    "\n",
    "- data from https://data.rivm.nl/covid-19/\n",
    "- taken 19 July 2020\n",
    "\n",
    "## Notes\n",
    "\n",
    "- Given that daily reported numbers are in small quantities\n",
    "(i.e. <100), changes represented in % changes\n",
    "can be highly sensitive.\n",
    "E.g. Changing from 1 to 5 is a 500% change.\n",
    "- But % change is the only way to\n",
    "compare change in qty across different slices\n",
    "of data.\n",
    "- So take those figures with a pinch of salt.\n",
    "- That being said, we are looking for anomalies,\n",
    "so a sufficiently large % change would signal\n",
    "an abnormally large change.\n",
    "- (Also, because I've just slapped this together in a\n",
    "few hours + re-learning how to use pandas/matplotlib,\n",
    "so i haven't put together a way to quickly\n",
    "compare % change across many more slices of data -- see todo)\n",
    "\n",
    "## todo\n",
    "\n",
    "- helper functions to dry code\n",
    "- plot graph that shows week-on-week daily % increase\n",
    "- plot that graph for every week since beginning of data"
   ]
  },
  {
   "cell_type": "code",
   "execution_count": 198,
   "outputs": [
    {
     "name": "stdout",
     "output_type": "stream",
     "text": [
      "<class 'pandas.core.frame.DataFrame'>\n",
      "RangeIndex: 49178 entries, 0 to 49177\n",
      "Data columns (total 7 columns):\n",
      " #   Column              Non-Null Count  Dtype         \n",
      "---  ------              --------------  -----         \n",
      " 0   Date_of_report      49178 non-null  datetime64[ns]\n",
      " 1   Municipality_code   47570 non-null  object        \n",
      " 2   Municipality_name   47570 non-null  object        \n",
      " 3   Province            49178 non-null  object        \n",
      " 4   Total_reported      49178 non-null  int64         \n",
      " 5   Hospital_admission  49178 non-null  int64         \n",
      " 6   Deceased            49178 non-null  int64         \n",
      "dtypes: datetime64[ns](1), int64(3), object(3)\n",
      "memory usage: 2.6+ MB\n"
     ]
    },
    {
     "data": {
      "text/plain": "0       2020-03-13\n250     2020-03-13\n249     2020-03-13\n248     2020-03-13\n247     2020-03-13\n           ...    \n48928   2020-07-24\n48927   2020-07-24\n48926   2020-07-24\n48935   2020-07-24\n49177   2020-07-24\nName: Date_of_report, Length: 49178, dtype: datetime64[ns]"
     },
     "execution_count": 198,
     "metadata": {},
     "output_type": "execute_result"
    }
   ],
   "source": [
    "import pandas as pd\n",
    "import os\n",
    "from matplotlib.pyplot import grid,plot,barh,xticks,yticks,legend\n",
    "import numpy as np\n",
    "\n",
    "_DATADIR=\"../_data\"\n",
    "\n",
    "# There are two datasets\n",
    "# _DATA_CASES is a CSV file containing data on nationally reported cases\n",
    "# _DATA_CUMUL contains data on cumulative infections, hospitalizations, deaths\n",
    "#_DATA_CASES=\"COVID-19_casus_landelijk.csv\"\n",
    "_DATA_CUMUL=\"COVID-19_aantallen_gemeente_cumulatief-2020-07-24.csv\"\n",
    "\n",
    "#cases = pd.read_csv(os.path.join(_DATADIR, _DATA_CASES), delimiter=\";\")\n",
    "cumul = pd.read_csv(os.path.join(_DATADIR, _DATA_CUMUL), delimiter=\";\")\n",
    "\n",
    "# set dtype of \"Date_of_report\" to pd.DatetimeTZDtype\n",
    "# get date in YYYY-MM-DD by accessing\n",
    "# cumul_ams[\"Date_of_report\"].dt.date\n",
    "cumul[\"Date_of_report\"] = pd.to_datetime(cumul[\"Date_of_report\"])\n",
    "cumul.info()\n",
    "\n",
    "cumul[\"Date_of_report\"] = cumul[\"Date_of_report\"].dt.normalize() # get date portion of datetime only\n",
    "cumul.sort_values(by=\"Date_of_report\",ascending=True,inplace=True)\n",
    "cumul[\"Date_of_report\"]"
   ],
   "metadata": {
    "collapsed": false,
    "pycharm": {
     "name": "#%%\n"
    }
   }
  },
  {
   "cell_type": "code",
   "execution_count": 170,
   "metadata": {
    "pycharm": {
     "name": "#%%\n"
    }
   },
   "outputs": [],
   "source": [
    "# NOT USED YET\n",
    "#cases_ams = cases[cases[\"Municipal_health_service\"].isin([\"GGD Amsterdam\"])]\n",
    "#cases_ams.tail()"
   ]
  },
  {
   "cell_type": "markdown",
   "metadata": {
    "pycharm": {
     "name": "#%% md\n"
    }
   },
   "source": [
    "We want only cases from Amsterdam:"
   ]
  },
  {
   "cell_type": "code",
   "execution_count": 171,
   "metadata": {
    "pycharm": {
     "name": "#%%\n"
    }
   },
   "outputs": [],
   "source": [
    "cumul_ams = cumul[cumul[\"Municipality_name\"].isin([\"Amsterdam\"])]"
   ]
  },
  {
   "cell_type": "code",
   "execution_count": 172,
   "outputs": [
    {
     "data": {
      "text/plain": "109         Friday\n476       Saturday\n843         Sunday\n1210        Monday\n1577       Tuesday\n           ...    \n47452       Monday\n47819      Tuesday\n48186    Wednesday\n48553     Thursday\n48920       Friday\nName: Day, Length: 134, dtype: object"
     },
     "execution_count": 172,
     "metadata": {},
     "output_type": "execute_result"
    }
   ],
   "source": [
    "# create new column for day of week\n",
    "cumul_ams.insert(len(cumul_ams.columns), \"Day\",cumul_ams[\"Date_of_report\"].dt.day_name())\n",
    "cumul_ams[\"Day\"].astype(\"str\")"
   ],
   "metadata": {
    "collapsed": false,
    "pycharm": {
     "name": "#%%\n"
    }
   }
  },
  {
   "cell_type": "code",
   "execution_count": 173,
   "outputs": [
    {
     "data": {
      "text/plain": "109      11\n476      11\n843      11\n1210     12\n1577     12\n         ..\n47452    30\n47819    30\n48186    30\n48553    30\n48920    30\nName: Week, Length: 134, dtype: int64"
     },
     "execution_count": 173,
     "metadata": {},
     "output_type": "execute_result"
    }
   ],
   "source": [
    "# create new column for week number\n",
    "cumul_ams.insert(len(cumul_ams.columns), \"Week\", cumul_ams[\"Date_of_report\"].dt.week)\n",
    "cumul_ams[\"Week\"]"
   ],
   "metadata": {
    "collapsed": false,
    "pycharm": {
     "name": "#%%\n"
    }
   }
  },
  {
   "cell_type": "code",
   "execution_count": 174,
   "outputs": [
    {
     "data": {
      "text/plain": "38277    284\n38644    284\n39011    284\n39378    284\n39745    284\n40112    284\n40479    284\n40846    284\n41213    284\n41580    284\n41947    284\n42314    284\n42681    284\n43048    284\n43415    284\n43782    284\n44149    284\n44516    284\n44883    284\n45250    284\n45617    284\n45984    284\n46351    284\n46718    282\n47085    282\n47452    282\n47819    282\n48186    282\n48553    282\n48920    282\nName: Deceased, dtype: int64"
     },
     "execution_count": 174,
     "metadata": {},
     "output_type": "execute_result"
    }
   ],
   "source": [
    "cumul_ams[\"Deceased\"][-30:]"
   ],
   "metadata": {
    "collapsed": false,
    "pycharm": {
     "name": "#%%\n"
    }
   }
  },
  {
   "cell_type": "code",
   "execution_count": 175,
   "outputs": [
    {
     "name": "stdout",
     "output_type": "stream",
     "text": [
      "<class 'pandas.core.frame.DataFrame'>\n",
      "Int64Index: 134 entries, 109 to 48920\n",
      "Data columns (total 4 columns):\n",
      " #   Column          Non-Null Count  Dtype         \n",
      "---  ------          --------------  -----         \n",
      " 0   Date_of_report  134 non-null    datetime64[ns]\n",
      " 1   Day             134 non-null    object        \n",
      " 2   Week            134 non-null    int64         \n",
      " 3   Total_reported  134 non-null    int64         \n",
      "dtypes: datetime64[ns](1), int64(2), object(1)\n",
      "memory usage: 5.2+ KB\n"
     ]
    }
   ],
   "source": [
    "# create working df with only 3 cols:\n",
    "# date, cumulative reports, day of week\n",
    "\n",
    "cumuldf = cumul_ams[[\"Date_of_report\",\"Day\",\"Week\",\"Total_reported\"]]\n",
    "cumuldf.info()"
   ],
   "metadata": {
    "collapsed": false,
    "pycharm": {
     "name": "#%%\n"
    }
   }
  },
  {
   "cell_type": "code",
   "execution_count": 176,
   "outputs": [],
   "source": [
    "# compare day on day increments\n",
    "\n",
    "def get_daily_delta(df):\n",
    "    daily_delta_column = []\n",
    "    rep = df[\"Total_reported\"]\n",
    "    for i in range(0,len(df[\"Total_reported\"])):\n",
    "        if i == 0:\n",
    "            daily_delta_column.append(0)\n",
    "            continue # skip this index\n",
    "        daily_delta_column.append(rep.iloc[i]-rep.iloc[i-1])\n",
    "\n",
    "    return daily_delta_column\n",
    "\n",
    "daily_delta = get_daily_delta(cumuldf)\n",
    "cumuldf.insert(len(cumuldf.columns),\"Daily_delta\",daily_delta)"
   ],
   "metadata": {
    "collapsed": false,
    "pycharm": {
     "name": "#%%\n"
    }
   }
  },
  {
   "cell_type": "code",
   "execution_count": 177,
   "outputs": [
    {
     "data": {
      "text/plain": "      Date_of_report        Day  Week  Total_reported  Daily_delta\n47452     2020-07-20     Monday    30            2852           28\n47819     2020-07-21    Tuesday    30            2873           21\n48186     2020-07-22  Wednesday    30            2891           18\n48553     2020-07-23   Thursday    30            2906           15\n48920     2020-07-24     Friday    30            2925           19",
      "text/html": "<div>\n<style scoped>\n    .dataframe tbody tr th:only-of-type {\n        vertical-align: middle;\n    }\n\n    .dataframe tbody tr th {\n        vertical-align: top;\n    }\n\n    .dataframe thead th {\n        text-align: right;\n    }\n</style>\n<table border=\"1\" class=\"dataframe\">\n  <thead>\n    <tr style=\"text-align: right;\">\n      <th></th>\n      <th>Date_of_report</th>\n      <th>Day</th>\n      <th>Week</th>\n      <th>Total_reported</th>\n      <th>Daily_delta</th>\n    </tr>\n  </thead>\n  <tbody>\n    <tr>\n      <th>47452</th>\n      <td>2020-07-20</td>\n      <td>Monday</td>\n      <td>30</td>\n      <td>2852</td>\n      <td>28</td>\n    </tr>\n    <tr>\n      <th>47819</th>\n      <td>2020-07-21</td>\n      <td>Tuesday</td>\n      <td>30</td>\n      <td>2873</td>\n      <td>21</td>\n    </tr>\n    <tr>\n      <th>48186</th>\n      <td>2020-07-22</td>\n      <td>Wednesday</td>\n      <td>30</td>\n      <td>2891</td>\n      <td>18</td>\n    </tr>\n    <tr>\n      <th>48553</th>\n      <td>2020-07-23</td>\n      <td>Thursday</td>\n      <td>30</td>\n      <td>2906</td>\n      <td>15</td>\n    </tr>\n    <tr>\n      <th>48920</th>\n      <td>2020-07-24</td>\n      <td>Friday</td>\n      <td>30</td>\n      <td>2925</td>\n      <td>19</td>\n    </tr>\n  </tbody>\n</table>\n</div>"
     },
     "execution_count": 177,
     "metadata": {},
     "output_type": "execute_result"
    }
   ],
   "source": [
    "cumuldf.tail()"
   ],
   "metadata": {
    "collapsed": false,
    "pycharm": {
     "name": "#%%\n"
    }
   }
  },
  {
   "cell_type": "code",
   "execution_count": 178,
   "outputs": [
    {
     "data": {
      "text/plain": "<Figure size 432x288 with 1 Axes>",
      "image/png": "[encoded data removed]"
     },
     "metadata": {
      "needs_background": "light"
     },
     "output_type": "display_data"
    }
   ],
   "source": [
    "def plot_daily_delta_for_last_n_weeks(df, n=3):\n",
    "    \"\"\"\n",
    "    Plots n number of weeks\n",
    "    worth of daily deltas in one line chart\n",
    "\n",
    "    :param df:\n",
    "    :type df: pandas.DataFrame\n",
    "    :param n: Last n weeks\n",
    "    :type n: int\n",
    "    :return: None\n",
    "    \"\"\"\n",
    "    grid(True)\n",
    "    xticks(rotation=\"vertical\")\n",
    "    yticks(np.arange(0, df[\"Daily_delta\"].max(), step=1))\n",
    "\n",
    "    for week in range(0,n):\n",
    "        df_week = df[\"Week\"]\n",
    "        this_week = df[df_week == df_week.max()-week]\n",
    "        week_start = this_week.iloc[0][\"Date_of_report\"]\n",
    "        week_start_d_m = f\"{week_start.day}/{week_start.month}\"\n",
    "        week_end = this_week.iloc[-1][\"Date_of_report\"]\n",
    "        week_end_d_m = f\"{week_end.day}/{week_end.month}\"\n",
    "\n",
    "        plot(this_week[\"Day\"],this_week[\"Daily_delta\"],label=f\"{week_start_d_m} – {week_end_d_m}\")\n",
    "    legend()\n",
    "\n",
    "plot_daily_delta_for_last_n_weeks(cumuldf, 5)"
   ],
   "metadata": {
    "collapsed": false,
    "pycharm": {
     "name": "#%%\n"
    }
   }
  },
  {
   "cell_type": "code",
   "execution_count": 209,
   "outputs": [
    {
     "data": {
      "text/plain": "<Figure size 432x288 with 1 Axes>",
      "image/png": "[encoded data removed]"
     },
     "metadata": {
      "needs_background": "light"
     },
     "output_type": "display_data"
    }
   ],
   "source": [
    "def plot_weekly_delta_for_last_n_weeks(df, n):\n",
    "    \"\"\"\n",
    "    Plot the weekly delta for the last n weeks\n",
    "\n",
    "    :param df: dataframe\n",
    "    :type df: pandas.DataFrame\n",
    "    :param n: Last n weeks\n",
    "    :type n: int\n",
    "    :return: None\n",
    "    \"\"\"\n",
    "    grid(True)\n",
    "    weekly_delta = {}\n",
    "    for week in range(0,n):\n",
    "        this_week_num = df[\"Week\"].max() - week\n",
    "        week_delta = df[df[\"Week\"] == this_week_num][\"Daily_delta\"].sum()\n",
    "        weekly_delta[f\"Week {this_week_num}\"] = week_delta\n",
    "\n",
    "    barh(list(weekly_delta.keys()), width=np.array(list(weekly_delta.values())),height=0.5)\n",
    "\n",
    "\n",
    "plot_weekly_delta_for_last_n_weeks(cumuldf, 5)"
   ],
   "metadata": {
    "collapsed": false,
    "pycharm": {
     "name": "#%%\n"
    }
   }
  },
  {
   "cell_type": "markdown",
   "metadata": {
    "pycharm": {
     "name": "#%% md\n"
    }
   },
   "source": [
    "## Cumulative reported cases for the last 30 days"
   ]
  },
  {
   "cell_type": "code",
   "execution_count": 179,
   "metadata": {
    "pycharm": {
     "name": "#%%\n"
    }
   },
   "outputs": [
    {
     "data": {
      "text/plain": "[<matplotlib.lines.Line2D at 0x1224a13c8>]"
     },
     "execution_count": 179,
     "metadata": {},
     "output_type": "execute_result"
    },
    {
     "data": {
      "text/plain": "<Figure size 432x288 with 1 Axes>",
      "image/png": "[encoded data removed]"
     },
     "metadata": {
      "needs_background": "light"
     },
     "output_type": "display_data"
    }
   ],
   "source": [
    "# figure for last 30 days\n",
    "cumul_ams_dates = cumuldf[\"Date_of_report\"].loc[-30:,]\n",
    "cumul_ams_reported = cumuldf[\"Total_reported\"].loc[-30:,]\n",
    "\n",
    "from matplotlib.pyplot import plot_date\n",
    "\n",
    "grid(True)\n",
    "xticks(rotation=\"vertical\")\n",
    "yticks(cumul_ams_reported)\n",
    "plot_date(cumul_ams_dates, cumul_ams_reported,xdate=True )"
   ]
  },
  {
   "cell_type": "code",
   "execution_count": 180,
   "outputs": [
    {
     "data": {
      "text/plain": "      Date_of_report        Day  Week  Total_reported  Daily_delta\n39745     2020-06-29     Monday    27            2666            7\n40112     2020-06-30    Tuesday    27            2671            5\n40479     2020-07-01  Wednesday    27            2674            3\n40846     2020-07-02   Thursday    27            2678            4\n41213     2020-07-03     Friday    27            2688           10\n41580     2020-07-04   Saturday    27            2695            7\n41947     2020-07-05     Sunday    27            2701            6",
      "text/html": "<div>\n<style scoped>\n    .dataframe tbody tr th:only-of-type {\n        vertical-align: middle;\n    }\n\n    .dataframe tbody tr th {\n        vertical-align: top;\n    }\n\n    .dataframe thead th {\n        text-align: right;\n    }\n</style>\n<table border=\"1\" class=\"dataframe\">\n  <thead>\n    <tr style=\"text-align: right;\">\n      <th></th>\n      <th>Date_of_report</th>\n      <th>Day</th>\n      <th>Week</th>\n      <th>Total_reported</th>\n      <th>Daily_delta</th>\n    </tr>\n  </thead>\n  <tbody>\n    <tr>\n      <th>39745</th>\n      <td>2020-06-29</td>\n      <td>Monday</td>\n      <td>27</td>\n      <td>2666</td>\n      <td>7</td>\n    </tr>\n    <tr>\n      <th>40112</th>\n      <td>2020-06-30</td>\n      <td>Tuesday</td>\n      <td>27</td>\n      <td>2671</td>\n      <td>5</td>\n    </tr>\n    <tr>\n      <th>40479</th>\n      <td>2020-07-01</td>\n      <td>Wednesday</td>\n      <td>27</td>\n      <td>2674</td>\n      <td>3</td>\n    </tr>\n    <tr>\n      <th>40846</th>\n      <td>2020-07-02</td>\n      <td>Thursday</td>\n      <td>27</td>\n      <td>2678</td>\n      <td>4</td>\n    </tr>\n    <tr>\n      <th>41213</th>\n      <td>2020-07-03</td>\n      <td>Friday</td>\n      <td>27</td>\n      <td>2688</td>\n      <td>10</td>\n    </tr>\n    <tr>\n      <th>41580</th>\n      <td>2020-07-04</td>\n      <td>Saturday</td>\n      <td>27</td>\n      <td>2695</td>\n      <td>7</td>\n    </tr>\n    <tr>\n      <th>41947</th>\n      <td>2020-07-05</td>\n      <td>Sunday</td>\n      <td>27</td>\n      <td>2701</td>\n      <td>6</td>\n    </tr>\n  </tbody>\n</table>\n</div>"
     },
     "execution_count": 180,
     "metadata": {},
     "output_type": "execute_result"
    }
   ],
   "source": [
    "# get current week\n",
    "current_week = cumuldf[\"Week\"].max()\n",
    "\n",
    "# get slice for current week\n",
    "week_this = cumuldf[cumuldf[\"Week\"] == current_week]\n",
    "week_last = cumuldf[cumuldf[\"Week\"] == (current_week-1)]\n",
    "week_last2 = cumuldf[cumuldf[\"Week\"] == (current_week-2)]\n",
    "week_last3 = cumuldf[cumuldf[\"Week\"] == (current_week-3)]\n",
    "\n",
    "week_last3"
   ],
   "metadata": {
    "collapsed": false,
    "pycharm": {
     "name": "#%%\n"
    }
   }
  },
  {
   "cell_type": "code",
   "execution_count": 181,
   "outputs": [],
   "source": [
    "\n",
    "second_last_day_of_week = week_this[-1:][\"Date_of_report\"]-np.timedelta64(1,\"D\")\n",
    "\n",
    "\n",
    "# cumul_ams[cumul_ams[\"Date_of_report\"].isin(second_last_day_of_week)]"
   ],
   "metadata": {
    "collapsed": false,
    "pycharm": {
     "name": "#%%\n"
    }
   }
  },
  {
   "cell_type": "code",
   "execution_count": 182,
   "metadata": {
    "pycharm": {
     "name": "#%%\n"
    }
   },
   "outputs": [
    {
     "data": {
      "text/plain": "46718    2020-07-18\n47085    2020-07-19\n47452    2020-07-20\n47819    2020-07-21\n48186    2020-07-22\n48553    2020-07-23\n48920    2020-07-24\nName: Date_of_report, dtype: object"
     },
     "execution_count": 182,
     "metadata": {},
     "output_type": "execute_result"
    }
   ],
   "source": [
    "# reported figures for each week\n",
    "cumul_ams_dates_last7 = cumul_ams[\"Date_of_report\"][-7:]\n",
    "cumul_ams_reported_last7 = cumul_ams[\"Total_reported\"][-7:]\n",
    "cumul_ams_dates_prev7 = cumul_ams[\"Date_of_report\"][-14:-7]\n",
    "cumul_ams_reported_prev7 = cumul_ams[\"Total_reported\"][-14:-7]\n",
    "cumul_ams_dates_3weeks = cumul_ams[\"Date_of_report\"][-21:-14]\n",
    "cumul_ams_reported_3weeks = cumul_ams[\"Total_reported\"][-21:-14]\n",
    "\n",
    "# format dates so we can overlay the plots\n",
    "import datetime\n",
    "\n",
    "cumul_ams_dates_last7_dt = cumul_ams_dates_last7.dt.date\n",
    "cumul_ams_dates_prev7_dt = cumul_ams_dates_prev7.dt.date\n",
    "cumul_ams_dates_3weeks_dt = cumul_ams_dates_3weeks.dt.date\n",
    "\n",
    "concat_dates = []\n",
    "for i in range(0,7):\n",
    "    concat_dates.append(f\"{cumul_ams_dates_last7_dt.to_list()[i]}/{cumul_ams_dates_prev7_dt.to_list()[i]}/{cumul_ams_dates_3weeks_dt.to_list()[i]}\")\n",
    "\n",
    "# days = [\"Monday\",\"Tuesday\",\"Wednesday\",\"Thursday\",\"Friday\", \"Saturday\", \"Sunday\"]\n",
    "cumul_ams_dates_last7_dt"
   ]
  },
  {
   "cell_type": "markdown",
   "metadata": {},
   "source": [
    "## Overlaying reported cases for last 21 days"
   ]
  },
  {
   "cell_type": "code",
   "execution_count": 183,
   "metadata": {
    "pycharm": {
     "name": "#%%\n"
    }
   },
   "outputs": [
    {
     "data": {
      "text/plain": "<matplotlib.legend.Legend at 0x123d228d0>"
     },
     "execution_count": 183,
     "metadata": {},
     "output_type": "execute_result"
    },
    {
     "data": {
      "text/plain": "<Figure size 432x288 with 1 Axes>",
      "image/png": "[encoded data removed]"
     },
     "metadata": {
      "needs_background": "light"
     },
     "output_type": "display_data"
    }
   ],
   "source": [
    "grid(True)\n",
    "xticks(np.arange(0,7,step=1),rotation=\"vertical\")\n",
    "yticks(np.arange(1000,2900,step=10))\n",
    "plot(concat_dates, cumul_ams_reported_3weeks,label=\"Cumlative reported 29/6 – 5/7\")\n",
    "plot(concat_dates, cumul_ams_reported_prev7, label=\"Cumlative reported 6/7 – 12/7\")\n",
    "plot(concat_dates, cumul_ams_reported_last7, label=\"Cumlative reported 13/7 – 19/7\")\n",
    "\n",
    "legend()"
   ]
  },
  {
   "cell_type": "markdown",
   "metadata": {
    "pycharm": {
     "name": "#%% md\n"
    }
   },
   "source": [
    "Last week's numbers"
   ]
  },
  {
   "cell_type": "code",
   "execution_count": 184,
   "metadata": {
    "pycharm": {
     "name": "#%%\n"
    }
   },
   "outputs": [
    {
     "data": {
      "text/plain": "      Date_of_report  Total_reported\n46351     2020-07-17            2790\n46718     2020-07-18            2791\n47085     2020-07-19            2824\n47452     2020-07-20            2852\n47819     2020-07-21            2873\n48186     2020-07-22            2891\n48553     2020-07-23            2906\n48920     2020-07-24            2925",
      "text/html": "<div>\n<style scoped>\n    .dataframe tbody tr th:only-of-type {\n        vertical-align: middle;\n    }\n\n    .dataframe tbody tr th {\n        vertical-align: top;\n    }\n\n    .dataframe thead th {\n        text-align: right;\n    }\n</style>\n<table border=\"1\" class=\"dataframe\">\n  <thead>\n    <tr style=\"text-align: right;\">\n      <th></th>\n      <th>Date_of_report</th>\n      <th>Total_reported</th>\n    </tr>\n  </thead>\n  <tbody>\n    <tr>\n      <th>46351</th>\n      <td>2020-07-17</td>\n      <td>2790</td>\n    </tr>\n    <tr>\n      <th>46718</th>\n      <td>2020-07-18</td>\n      <td>2791</td>\n    </tr>\n    <tr>\n      <th>47085</th>\n      <td>2020-07-19</td>\n      <td>2824</td>\n    </tr>\n    <tr>\n      <th>47452</th>\n      <td>2020-07-20</td>\n      <td>2852</td>\n    </tr>\n    <tr>\n      <th>47819</th>\n      <td>2020-07-21</td>\n      <td>2873</td>\n    </tr>\n    <tr>\n      <th>48186</th>\n      <td>2020-07-22</td>\n      <td>2891</td>\n    </tr>\n    <tr>\n      <th>48553</th>\n      <td>2020-07-23</td>\n      <td>2906</td>\n    </tr>\n    <tr>\n      <th>48920</th>\n      <td>2020-07-24</td>\n      <td>2925</td>\n    </tr>\n  </tbody>\n</table>\n</div>"
     },
     "execution_count": 184,
     "metadata": {},
     "output_type": "execute_result"
    }
   ],
   "source": [
    "tmp_df = cumul_ams[[\"Date_of_report\",\"Total_reported\"]]\n",
    "last7 = tmp_df[-8:]\n",
    "last7"
   ]
  },
  {
   "cell_type": "code",
   "execution_count": 185,
   "metadata": {
    "pycharm": {
     "name": "#%%\n"
    }
   },
   "outputs": [
    {
     "data": {
      "text/plain": "[1, 33, 28, 21, 18, 15, 19]"
     },
     "execution_count": 185,
     "metadata": {},
     "output_type": "execute_result"
    }
   ],
   "source": [
    "last7_reported = last7[\"Total_reported\"].to_list()\n",
    "last7_daily_incrm = []\n",
    "for i in range(0,len(last7_reported)):\n",
    "    if i >0:\n",
    "        last7_daily_incrm.append(\n",
    "            last7_reported[i]-last7_reported[i-1]\n",
    "            )\n",
    "\n",
    "last7_daily_incrm"
   ]
  },
  {
   "cell_type": "markdown",
   "metadata": {
    "pycharm": {
     "name": "#%% md\n"
    }
   },
   "source": [
    "So we can see that last week's numbers:\n",
    "\n",
    "- Increased from 2744 to 2824 -- +80\n",
    "-"
   ]
  },
  {
   "cell_type": "markdown",
   "metadata": {
    "pycharm": {
     "name": "#%% md\n"
    }
   },
   "source": [
    "### Previous week's numbers"
   ]
  },
  {
   "cell_type": "code",
   "execution_count": 186,
   "metadata": {
    "pycharm": {
     "name": "#%%\n"
    }
   },
   "outputs": [
    {
     "data": {
      "text/plain": "      Date_of_report  Total_reported\n43782     2020-07-10            2724\n44149     2020-07-11            2729\n44516     2020-07-12            2733\n44883     2020-07-13            2744\n45250     2020-07-14            2749\n45617     2020-07-15            2754\n45984     2020-07-16            2774\n46351     2020-07-17            2790",
      "text/html": "<div>\n<style scoped>\n    .dataframe tbody tr th:only-of-type {\n        vertical-align: middle;\n    }\n\n    .dataframe tbody tr th {\n        vertical-align: top;\n    }\n\n    .dataframe thead th {\n        text-align: right;\n    }\n</style>\n<table border=\"1\" class=\"dataframe\">\n  <thead>\n    <tr style=\"text-align: right;\">\n      <th></th>\n      <th>Date_of_report</th>\n      <th>Total_reported</th>\n    </tr>\n  </thead>\n  <tbody>\n    <tr>\n      <th>43782</th>\n      <td>2020-07-10</td>\n      <td>2724</td>\n    </tr>\n    <tr>\n      <th>44149</th>\n      <td>2020-07-11</td>\n      <td>2729</td>\n    </tr>\n    <tr>\n      <th>44516</th>\n      <td>2020-07-12</td>\n      <td>2733</td>\n    </tr>\n    <tr>\n      <th>44883</th>\n      <td>2020-07-13</td>\n      <td>2744</td>\n    </tr>\n    <tr>\n      <th>45250</th>\n      <td>2020-07-14</td>\n      <td>2749</td>\n    </tr>\n    <tr>\n      <th>45617</th>\n      <td>2020-07-15</td>\n      <td>2754</td>\n    </tr>\n    <tr>\n      <th>45984</th>\n      <td>2020-07-16</td>\n      <td>2774</td>\n    </tr>\n    <tr>\n      <th>46351</th>\n      <td>2020-07-17</td>\n      <td>2790</td>\n    </tr>\n  </tbody>\n</table>\n</div>"
     },
     "execution_count": 186,
     "metadata": {},
     "output_type": "execute_result"
    }
   ],
   "source": [
    "tmp_df[-15:-7]"
   ]
  },
  {
   "cell_type": "code",
   "execution_count": 187,
   "metadata": {
    "pycharm": {
     "name": "#%%\n"
    }
   },
   "outputs": [
    {
     "data": {
      "text/plain": "[5, 4, 11, 5, 5, 20, 16]"
     },
     "execution_count": 187,
     "metadata": {},
     "output_type": "execute_result"
    }
   ],
   "source": [
    "prev7_reported = tmp_df[\"Total_reported\"][-15:-7].to_list()\n",
    "prev7_daily_incrm = []\n",
    "for i in range(0,len(prev7_reported)):\n",
    "    if i >0:\n",
    "        prev7_daily_incrm.append(\n",
    "            prev7_reported[i]-prev7_reported[i-1]\n",
    "            )\n",
    "\n",
    "prev7_daily_incrm"
   ]
  },
  {
   "cell_type": "code",
   "execution_count": 188,
   "metadata": {
    "pycharm": {
     "name": "#%%\n"
    }
   },
   "outputs": [
    {
     "data": {
      "text/plain": "[7, 6, 3, 2, 6, 2, 10]"
     },
     "execution_count": 188,
     "metadata": {},
     "output_type": "execute_result"
    }
   ],
   "source": [
    "last3weeks = tmp_df[-22:-14]\n",
    "\n",
    "last3weeks_reported = last3weeks[\"Total_reported\"].to_list()\n",
    "last3weeks_daily_incrm = []\n",
    "for i in range(0,len(last3weeks_reported)):\n",
    "    if i >0:\n",
    "        last3weeks_daily_incrm.append(\n",
    "            last3weeks_reported[i]-last3weeks_reported[i-1]\n",
    "            )\n",
    "\n",
    "last3weeks_daily_incrm"
   ]
  },
  {
   "cell_type": "markdown",
   "metadata": {
    "pycharm": {
     "name": "#%% md\n"
    }
   },
   "source": [
    "### Daily increase in cases, week on week:"
   ]
  },
  {
   "cell_type": "code",
   "execution_count": 189,
   "metadata": {
    "pycharm": {
     "name": "#%%\n"
    }
   },
   "outputs": [
    {
     "data": {
      "text/plain": "[20.0, 825.0, 254.54545454545453, 420.0, 360.0, 75.0, 118.75]"
     },
     "execution_count": 189,
     "metadata": {},
     "output_type": "execute_result"
    }
   ],
   "source": [
    "week_on_week_incrm_percent = []\n",
    "for i in range(0,len(prev7_daily_incrm)):\n",
    "    week_on_week_incrm_percent.append(\n",
    "        last7_daily_incrm[i]/prev7_daily_incrm[i]*100\n",
    "    )\n",
    "\n",
    "week_on_week_incrm_percent"
   ]
  },
  {
   "cell_type": "markdown",
   "metadata": {
    "pycharm": {
     "name": "#%% md\n"
    }
   },
   "source": [
    "### 3 weeks ago vs last week"
   ]
  },
  {
   "cell_type": "code",
   "execution_count": 190,
   "metadata": {
    "pycharm": {
     "name": "#%%\n"
    }
   },
   "outputs": [
    {
     "data": {
      "text/plain": "[71.42857142857143,\n 66.66666666666666,\n 366.66666666666663,\n 250.0,\n 83.33333333333334,\n 1000.0,\n 160.0]"
     },
     "execution_count": 190,
     "metadata": {},
     "output_type": "execute_result"
    }
   ],
   "source": [
    "week_on_week_incrm_percent_3weeks = []\n",
    "for i in range(0,len(prev7_daily_incrm)):\n",
    "    week_on_week_incrm_percent_3weeks.append(\n",
    "        prev7_daily_incrm[i]/last3weeks_daily_incrm[i]*100\n",
    "    )\n",
    "\n",
    "week_on_week_incrm_percent_3weeks"
   ]
  },
  {
   "cell_type": "markdown",
   "metadata": {
    "pycharm": {
     "name": "#%% md\n"
    }
   },
   "source": [
    "### Plot daily increase for 3 weeks"
   ]
  },
  {
   "cell_type": "code",
   "execution_count": 191,
   "metadata": {
    "pycharm": {
     "name": "#%%\n"
    }
   },
   "outputs": [
    {
     "data": {
      "text/plain": "<matplotlib.legend.Legend at 0x123dd8e10>"
     },
     "execution_count": 191,
     "metadata": {},
     "output_type": "execute_result"
    },
    {
     "data": {
      "text/plain": "<Figure size 432x288 with 1 Axes>",
      "image/png": "[encoded data removed]"
     },
     "metadata": {
      "needs_background": "light"
     },
     "output_type": "display_data"
    }
   ],
   "source": [
    "grid()\n",
    "xticks(np.arange(0,7,step=1),rotation=\"vertical\")\n",
    "yticks(np.arange(0,40,step=1))\n",
    "plot(concat_dates,last7_daily_incrm,label=\"Daily reported increase 13/7 – 19/7\")\n",
    "plot(concat_dates,prev7_daily_incrm,label=\"Daily reported increase 6/7 – 12/7\")\n",
    "plot(concat_dates,last3weeks_daily_incrm, label=\"Daily reported increase \")\n",
    "legend()"
   ]
  },
  {
   "cell_type": "markdown",
   "metadata": {
    "pycharm": {
     "name": "#%% md\n"
    }
   },
   "source": [
    "### Total reported cases increase, week on week:"
   ]
  },
  {
   "cell_type": "code",
   "execution_count": 192,
   "metadata": {
    "pycharm": {
     "name": "#%%\n"
    }
   },
   "outputs": [
    {
     "data": {
      "text/plain": "204.54545454545453"
     },
     "execution_count": 192,
     "metadata": {},
     "output_type": "execute_result"
    }
   ],
   "source": [
    "sum(last7_daily_incrm)/sum(prev7_daily_incrm)*100"
   ]
  },
  {
   "cell_type": "code",
   "execution_count": 193,
   "metadata": {
    "pycharm": {
     "name": "#%%\n"
    }
   },
   "outputs": [
    {
     "data": {
      "text/plain": "183.33333333333331"
     },
     "execution_count": 193,
     "metadata": {},
     "output_type": "execute_result"
    }
   ],
   "source": [
    "sum(prev7_daily_incrm)/sum(last3weeks_daily_incrm)*100"
   ]
  }
 ],
 "metadata": {
  "kernelspec": {
   "display_name": "Python 3",
   "language": "python",
   "name": "python3"
  },
  "language_info": {
   "codemirror_mode": {
    "name": "ipython",
    "version": 3
   },
   "file_extension": ".py",
   "mimetype": "text/x-python",
   "name": "python",
   "nbconvert_exporter": "python",
   "pygments_lexer": "ipython3",
   "version": "3.7.3"
  }
 },
 "nbformat": 4,
 "nbformat_minor": 1
}