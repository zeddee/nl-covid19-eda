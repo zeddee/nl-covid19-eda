{
 "cells": [
  {
   "cell_type": "markdown",
   "metadata": {
    "pycharm": {
     "name": "#%% md\n"
    }
   },
   "source": [
    "# NL COVID 19 data exploration\n",
    "\n",
    "- data from https://data.rivm.nl/covid-19/\n",
    "- taken 27 July 2020\n",
    "\n",
    "## Notes\n",
    "\n",
    "- Given that daily reported numbers are in small quantities\n",
    "(i.e. <100), changes represented in % changes\n",
    "can be highly sensitive.\n",
    "E.g. Changing from 1 to 5 is a 500% change.\n",
    "- But % change is the only way to\n",
    "compare change in qty across different slices\n",
    "of data.\n",
    "- So take those figures with a pinch of salt.\n",
    "- That being said, we are looking for anomalies,\n",
    "so a sufficiently large % change would signal\n",
    "an abnormally large change."
   ]
  },
  {
   "cell_type": "code",
   "execution_count": 97,
   "metadata": {
    "pycharm": {
     "name": "#%%\n"
    }
   },
   "outputs": [],
   "source": [
    "import pandas as pd\n",
    "import os\n",
    "from matplotlib.pyplot import grid,plot,barh,xticks,yticks,legend,show, plot_date\n",
    "import numpy as np\n",
    "from pprint import pprint"
   ]
  },
  {
   "cell_type": "code",
   "execution_count": 98,
   "metadata": {
    "pycharm": {
     "name": "#%%\n"
    }
   },
   "outputs": [
    {
     "name": "stdout",
     "output_type": "stream",
     "text": [
      "<class 'pandas.core.frame.DataFrame'>\n",
      "RangeIndex: 50646 entries, 0 to 50645\n",
      "Data columns (total 7 columns):\n",
      " #   Column              Non-Null Count  Dtype         \n",
      "---  ------              --------------  -----         \n",
      " 0   Date_of_report      50646 non-null  datetime64[ns]\n",
      " 1   Municipality_code   48990 non-null  object        \n",
      " 2   Municipality_name   48990 non-null  object        \n",
      " 3   Province            50646 non-null  object        \n",
      " 4   Total_reported      50646 non-null  int64         \n",
      " 5   Hospital_admission  50646 non-null  int64         \n",
      " 6   Deceased            50646 non-null  int64         \n",
      "dtypes: datetime64[ns](1), int64(3), object(3)\n",
      "memory usage: 2.7+ MB\n"
     ]
    }
   ],
   "source": [
    "_DATADIR=\"../_data\"\n",
    "\n",
    "# There are two datasets\n",
    "# _DATA_CASES is a CSV file containing data on nationally reported cases\n",
    "# _DATA_CUMUL contains data on cumulative infections, hospitalizations, deaths\n",
    "#_DATA_CASES=\"COVID-19_casus_landelijk.csv\"\n",
    "_DATA_CUMUL=\"COVID-19_aantallen_gemeente_cumulatief-2020-07-28.csv\"\n",
    "\n",
    "#cases = pd.read_csv(os.path.join(_DATADIR, _DATA_CASES), delimiter=\";\")\n",
    "cumul = pd.read_csv(os.path.join(_DATADIR, _DATA_CUMUL), delimiter=\";\")\n",
    "\n",
    "# set dtype of \"Date_of_report\" to pd.DatetimeTZDtype\n",
    "# get date in YYYY-MM-DD by accessing\n",
    "# cumul_ams[\"Date_of_report\"].dt.date\n",
    "cumul[\"Date_of_report\"] = pd.to_datetime(cumul[\"Date_of_report\"])\n",
    "cumul.info()\n",
    "\n",
    "cumul[\"Date_of_report\"] = cumul[\"Date_of_report\"].dt.normalize() # get date portion of datetime only\n",
    "cumul.sort_values(by=\"Date_of_report\",ascending=True,inplace=True)\n",
    "# cumul[\"Date_of_report\"]"
   ]
  },
  {
   "cell_type": "code",
   "execution_count": 99,
   "metadata": {
    "pycharm": {
     "name": "#%%\n"
    }
   },
   "outputs": [],
   "source": [
    "# Get only cases from Amsterdam:\n",
    "\n",
    "cumul_ams = cumul[cumul[\"Municipality_name\"].isin([\"Amsterdam\"])]\n",
    "\n",
    "# create new column for day of week\n",
    "\n",
    "cumul_ams.insert(len(cumul_ams.columns), \"Day\",cumul_ams[\"Date_of_report\"].dt.day_name())\n",
    "cumul_ams[\"Day\"].astype(\"str\")\n",
    "\n",
    "# create new column for week number\n",
    "cumul_ams.insert(len(cumul_ams.columns), \"Week\", cumul_ams[\"Date_of_report\"].dt.week)\n",
    "\n",
    "# compare day on day increments/deltas\n",
    "\n",
    "def get_daily_delta(df):\n",
    "    daily_delta_column = []\n",
    "    rep = df[\"Total_reported\"]\n",
    "    for i in range(0,len(rep)):\n",
    "        if i == 0:\n",
    "            daily_delta_column.append(0)\n",
    "            continue # skip this index\n",
    "        daily_delta_column.append(rep.iloc[i]-rep.iloc[i-1])\n",
    "\n",
    "    return daily_delta_column\n",
    "\n",
    "# add daily deltas to df\n",
    "cumul_ams.insert(\n",
    "    len(cumul_ams.columns),\n",
    "    \"Daily_delta\",\n",
    "    get_daily_delta(cumul_ams)\n",
    ")"
   ]
  },
  {
   "cell_type": "markdown",
   "metadata": {
    "pycharm": {
     "name": "#%% md\n"
    }
   },
   "source": [
    "### Get only the data we want from dataframe"
   ]
  },
  {
   "cell_type": "code",
   "execution_count": 100,
   "metadata": {
    "pycharm": {
     "name": "#%%\n"
    }
   },
   "outputs": [
    {
     "name": "stdout",
     "output_type": "stream",
     "text": [
      "<class 'pandas.core.frame.DataFrame'>\n",
      "Int64Index: 138 entries, 109 to 50388\n",
      "Data columns (total 5 columns):\n",
      " #   Column          Non-Null Count  Dtype         \n",
      "---  ------          --------------  -----         \n",
      " 0   Date_of_report  138 non-null    datetime64[ns]\n",
      " 1   Day             138 non-null    object        \n",
      " 2   Week            138 non-null    int64         \n",
      " 3   Daily_delta     138 non-null    int64         \n",
      " 4   Total_reported  138 non-null    int64         \n",
      "dtypes: datetime64[ns](1), int64(3), object(1)\n",
      "memory usage: 6.5+ KB\n"
     ]
    }
   ],
   "source": [
    "# create working df with:\n",
    "# date, cumulative day of week, week number, reports\n",
    "\n",
    "cumuldf = cumul_ams[[\"Date_of_report\",\"Day\",\"Week\",\"Daily_delta\", \"Total_reported\"]]\n",
    "cumuldf.info()"
   ]
  },
  {
   "cell_type": "markdown",
   "metadata": {
    "pycharm": {
     "name": "#%% md\n"
    }
   },
   "source": [
    "### Data from last 10 days"
   ]
  },
  {
   "cell_type": "code",
   "execution_count": 101,
   "metadata": {
    "pycharm": {
     "name": "#%%\n"
    }
   },
   "outputs": [
    {
     "data": {
      "text/plain": "      Date_of_report        Day  Week  Daily_delta  Total_reported\n47085     2020-07-19     Sunday    29           33            2824\n47452     2020-07-20     Monday    30           28            2852\n47819     2020-07-21    Tuesday    30           21            2873\n48186     2020-07-22  Wednesday    30           18            2891\n48553     2020-07-23   Thursday    30           15            2906\n48920     2020-07-24     Friday    30           19            2925\n49287     2020-07-25   Saturday    30           20            2945\n49654     2020-07-26     Sunday    30           28            2973\n50021     2020-07-27     Monday    31           47            3020\n50388     2020-07-28    Tuesday    31           29            3049",
      "text/html": "<div>\n<style scoped>\n    .dataframe tbody tr th:only-of-type {\n        vertical-align: middle;\n    }\n\n    .dataframe tbody tr th {\n        vertical-align: top;\n    }\n\n    .dataframe thead th {\n        text-align: right;\n    }\n</style>\n<table border=\"1\" class=\"dataframe\">\n  <thead>\n    <tr style=\"text-align: right;\">\n      <th></th>\n      <th>Date_of_report</th>\n      <th>Day</th>\n      <th>Week</th>\n      <th>Daily_delta</th>\n      <th>Total_reported</th>\n    </tr>\n  </thead>\n  <tbody>\n    <tr>\n      <th>47085</th>\n      <td>2020-07-19</td>\n      <td>Sunday</td>\n      <td>29</td>\n      <td>33</td>\n      <td>2824</td>\n    </tr>\n    <tr>\n      <th>47452</th>\n      <td>2020-07-20</td>\n      <td>Monday</td>\n      <td>30</td>\n      <td>28</td>\n      <td>2852</td>\n    </tr>\n    <tr>\n      <th>47819</th>\n      <td>2020-07-21</td>\n      <td>Tuesday</td>\n      <td>30</td>\n      <td>21</td>\n      <td>2873</td>\n    </tr>\n    <tr>\n      <th>48186</th>\n      <td>2020-07-22</td>\n      <td>Wednesday</td>\n      <td>30</td>\n      <td>18</td>\n      <td>2891</td>\n    </tr>\n    <tr>\n      <th>48553</th>\n      <td>2020-07-23</td>\n      <td>Thursday</td>\n      <td>30</td>\n      <td>15</td>\n      <td>2906</td>\n    </tr>\n    <tr>\n      <th>48920</th>\n      <td>2020-07-24</td>\n      <td>Friday</td>\n      <td>30</td>\n      <td>19</td>\n      <td>2925</td>\n    </tr>\n    <tr>\n      <th>49287</th>\n      <td>2020-07-25</td>\n      <td>Saturday</td>\n      <td>30</td>\n      <td>20</td>\n      <td>2945</td>\n    </tr>\n    <tr>\n      <th>49654</th>\n      <td>2020-07-26</td>\n      <td>Sunday</td>\n      <td>30</td>\n      <td>28</td>\n      <td>2973</td>\n    </tr>\n    <tr>\n      <th>50021</th>\n      <td>2020-07-27</td>\n      <td>Monday</td>\n      <td>31</td>\n      <td>47</td>\n      <td>3020</td>\n    </tr>\n    <tr>\n      <th>50388</th>\n      <td>2020-07-28</td>\n      <td>Tuesday</td>\n      <td>31</td>\n      <td>29</td>\n      <td>3049</td>\n    </tr>\n  </tbody>\n</table>\n</div>"
     },
     "execution_count": 101,
     "metadata": {},
     "output_type": "execute_result"
    }
   ],
   "source": [
    "cumuldf.tail(10)"
   ]
  },
  {
   "cell_type": "code",
   "execution_count": 102,
   "metadata": {
    "pycharm": {
     "name": "#%%\n"
    }
   },
   "outputs": [],
   "source": [
    "def plot_daily_delta_for_last_n_weeks(df, n=3):\n",
    "    \"\"\"\n",
    "    Plots n number of weeks\n",
    "    worth of daily deltas in one line chart\n",
    "\n",
    "    :param df:\n",
    "    :type df: pandas.DataFrame\n",
    "    :param n: Last n weeks\n",
    "    :type n: int\n",
    "    :return: None\n",
    "    \"\"\"\n",
    "    grid(True)\n",
    "    xticks(rotation=\"vertical\")\n",
    "    yticks(np.arange(0, df[\"Daily_delta\"].max(), step=1))\n",
    "\n",
    "    for week in range(0,n):\n",
    "        df_week = df[\"Week\"]\n",
    "        this_week = df[df_week == df_week.max()-week]\n",
    "        week_start = this_week.iloc[0][\"Date_of_report\"]\n",
    "        week_start_d_m = f\"{week_start.day}/{week_start.month}\"\n",
    "        week_end = this_week.iloc[-1][\"Date_of_report\"]\n",
    "        week_end_d_m = f\"{week_end.day}/{week_end.month}\"\n",
    "\n",
    "        plot(this_week[\"Day\"],this_week[\"Daily_delta\"],label=f\"{week_start_d_m} – {week_end_d_m}\")\n",
    "    legend()"
   ]
  },
  {
   "cell_type": "markdown",
   "metadata": {
    "pycharm": {
     "name": "#%% md\n"
    }
   },
   "source": [
    "### Plot day to day change in reported cases, by week"
   ]
  },
  {
   "cell_type": "code",
   "execution_count": 103,
   "metadata": {
    "pycharm": {
     "name": "#%%\n"
    }
   },
   "outputs": [
    {
     "data": {
      "text/plain": "<Figure size 432x288 with 1 Axes>",
      "image/png": "[encoded data removed]"
     },
     "metadata": {
      "needs_background": "light"
     },
     "output_type": "display_data"
    },
    {
     "data": {
      "text/plain": "      Date_of_report  Week  Daily_delta  Total_reported\n48186     2020-07-22    30           18            2891\n48553     2020-07-23    30           15            2906\n48920     2020-07-24    30           19            2925\n49287     2020-07-25    30           20            2945\n49654     2020-07-26    30           28            2973\n50021     2020-07-27    31           47            3020\n50388     2020-07-28    31           29            3049",
      "text/html": "<div>\n<style scoped>\n    .dataframe tbody tr th:only-of-type {\n        vertical-align: middle;\n    }\n\n    .dataframe tbody tr th {\n        vertical-align: top;\n    }\n\n    .dataframe thead th {\n        text-align: right;\n    }\n</style>\n<table border=\"1\" class=\"dataframe\">\n  <thead>\n    <tr style=\"text-align: right;\">\n      <th></th>\n      <th>Date_of_report</th>\n      <th>Week</th>\n      <th>Daily_delta</th>\n      <th>Total_reported</th>\n    </tr>\n  </thead>\n  <tbody>\n    <tr>\n      <th>48186</th>\n      <td>2020-07-22</td>\n      <td>30</td>\n      <td>18</td>\n      <td>2891</td>\n    </tr>\n    <tr>\n      <th>48553</th>\n      <td>2020-07-23</td>\n      <td>30</td>\n      <td>15</td>\n      <td>2906</td>\n    </tr>\n    <tr>\n      <th>48920</th>\n      <td>2020-07-24</td>\n      <td>30</td>\n      <td>19</td>\n      <td>2925</td>\n    </tr>\n    <tr>\n      <th>49287</th>\n      <td>2020-07-25</td>\n      <td>30</td>\n      <td>20</td>\n      <td>2945</td>\n    </tr>\n    <tr>\n      <th>49654</th>\n      <td>2020-07-26</td>\n      <td>30</td>\n      <td>28</td>\n      <td>2973</td>\n    </tr>\n    <tr>\n      <th>50021</th>\n      <td>2020-07-27</td>\n      <td>31</td>\n      <td>47</td>\n      <td>3020</td>\n    </tr>\n    <tr>\n      <th>50388</th>\n      <td>2020-07-28</td>\n      <td>31</td>\n      <td>29</td>\n      <td>3049</td>\n    </tr>\n  </tbody>\n</table>\n</div>"
     },
     "execution_count": 103,
     "metadata": {},
     "output_type": "execute_result"
    }
   ],
   "source": [
    "plot_daily_delta_for_last_n_weeks(cumuldf, 5)\n",
    "show()\n",
    "\n",
    "cumuldf[[\"Date_of_report\",\"Week\",\"Daily_delta\",\"Total_reported\"]].tail(7)"
   ]
  },
  {
   "cell_type": "code",
   "execution_count": 104,
   "metadata": {
    "pycharm": {
     "name": "#%%\n"
    }
   },
   "outputs": [],
   "source": [
    "def plot_weekly_delta_for_last_n_weeks(df, n):\n",
    "    \"\"\"\n",
    "    Plot the weekly delta for the last n weeks\n",
    "\n",
    "    :param df: dataframe\n",
    "    :type df: pandas.DataFrame\n",
    "    :param n: Last n weeks\n",
    "    :type n: int\n",
    "    :return: Dict\n",
    "    \"\"\"\n",
    "\n",
    "    weekly_delta = {}\n",
    "    for week in range(0,n):\n",
    "        if df[\"Week\"].max() < week:\n",
    "            print(f\"Week no. {df['Week'].max() - week} does not exist.\")\n",
    "            continue\n",
    "\n",
    "        this_week_num = df[\"Week\"].max() - week\n",
    "        week_delta = df[df[\"Week\"] == this_week_num][\"Daily_delta\"].sum()\n",
    "\n",
    "        if this_week_num == 0:\n",
    "            weekly_delta[f\"Week {this_week_num}\"] = 0\n",
    "            continue\n",
    "        else:\n",
    "            weekly_delta[f\"Week {this_week_num}\"] = week_delta\n",
    "            continue\n",
    "    return weekly_delta\n",
    "\n"
   ]
  },
  {
   "cell_type": "markdown",
   "metadata": {
    "pycharm": {
     "name": "#%% md\n"
    }
   },
   "source": [
    "### Plot week-on-week change in reported cases"
   ]
  },
  {
   "cell_type": "code",
   "execution_count": 105,
   "metadata": {
    "pycharm": {
     "name": "#%%\n"
    }
   },
   "outputs": [
    {
     "data": {
      "text/plain": "<Figure size 432x288 with 1 Axes>",
      "image/png": "[encoded data removed]"
     },
     "metadata": {
      "needs_background": "light"
     },
     "output_type": "display_data"
    },
    {
     "name": "stdout",
     "output_type": "stream",
     "text": [
      "{'Week 27': 42, 'Week 28': 32, 'Week 29': 91, 'Week 30': 149, 'Week 31': 76}\n"
     ]
    }
   ],
   "source": [
    "weekly_delta = plot_weekly_delta_for_last_n_weeks(cumuldf, 5)\n",
    "grid(True)\n",
    "barh(list(weekly_delta.keys()), width=np.array(list(weekly_delta.values())),height=0.5)\n",
    "show()\n",
    "pprint(weekly_delta)"
   ]
  },
  {
   "cell_type": "code",
   "execution_count": 106,
   "metadata": {
    "pycharm": {
     "name": "#%%\n"
    }
   },
   "outputs": [],
   "source": [
    "def weekly_percentage_incr_for_last_n_weeks(df, n):\n",
    "    weekly_percent_delta = {}\n",
    "    for week in range(0,n):\n",
    "        if df[\"Week\"].max() < week:\n",
    "            print(f\"Week no. {df['Week'].max() - week} does not exist.\")\n",
    "            continue\n",
    "\n",
    "        this_week_num = df[\"Week\"].max() - week\n",
    "        week_delta = df[df[\"Week\"] == this_week_num][\"Daily_delta\"].sum()\n",
    "\n",
    "        if this_week_num == 0:\n",
    "            weekly_percent_delta[f\"Week {this_week_num}\"] = 0\n",
    "            continue\n",
    "        else:\n",
    "            last_week_delta = df[df[\"Week\"] == (this_week_num-1)][\"Daily_delta\"].sum()\n",
    "            weekly_percent_delta[f\"Week {this_week_num}\"] = ((week_delta-last_week_delta)/last_week_delta)*100\n",
    "\n",
    "    return weekly_percent_delta"
   ]
  },
  {
   "cell_type": "markdown",
   "metadata": {
    "pycharm": {
     "name": "#%% md\n"
    }
   },
   "source": [
    "### Plot week-on-week percentage change in reported cases"
   ]
  },
  {
   "cell_type": "code",
   "execution_count": 107,
   "metadata": {
    "pycharm": {
     "name": "#%%\n"
    }
   },
   "outputs": [
    {
     "data": {
      "text/plain": "<Figure size 432x288 with 1 Axes>",
      "image/png": "[encoded data removed]"
     },
     "metadata": {
      "needs_background": "light"
     },
     "output_type": "display_data"
    },
    {
     "name": "stdout",
     "output_type": "stream",
     "text": [
      "{'Week 27': -17.647058823529413,\n",
      " 'Week 28': -23.809523809523807,\n",
      " 'Week 29': 184.375,\n",
      " 'Week 30': 63.73626373626373,\n",
      " 'Week 31': -48.99328859060403}\n"
     ]
    }
   ],
   "source": [
    "grid(True)\n",
    "weekly_percent_delta = weekly_percentage_incr_for_last_n_weeks(cumuldf,5)\n",
    "barh(list(weekly_percent_delta.keys()), width=np.array(list(weekly_percent_delta.values())),height=0.5)\n",
    "show()\n",
    "pprint(weekly_percent_delta)"
   ]
  },
  {
   "cell_type": "code",
   "execution_count": 108,
   "outputs": [],
   "source": [
    "# Helper function to plot last n days cumulative reported cases\n",
    "\n",
    "def plot_cumul_reported_last_n_days(df,n):\n",
    "    plot_this = df.tail(n)\n",
    "    grid(True)\n",
    "    xticks(rotation=\"vertical\")\n",
    "    yticks(plot_this[\"Total_reported\"])\n",
    "    plot_date(plot_this[\"Date_of_report\"].loc[-n:,], plot_this[\"Total_reported\"],xdate=True )\n",
    "    show()\n",
    "    pprint(df[[\"Date_of_report\", \"Total_reported\"]].tail(n))"
   ],
   "metadata": {
    "collapsed": false,
    "pycharm": {
     "name": "#%%\n"
    }
   }
  },
  {
   "cell_type": "markdown",
   "source": [
    "### Cumulative reported cases for the last 7 days"
   ],
   "metadata": {
    "collapsed": false
   }
  },
  {
   "cell_type": "code",
   "execution_count": 109,
   "outputs": [
    {
     "data": {
      "text/plain": "<Figure size 432x288 with 1 Axes>",
      "image/png": "[encoded data removed]"
     },
     "metadata": {
      "needs_background": "light"
     },
     "output_type": "display_data"
    },
    {
     "name": "stdout",
     "output_type": "stream",
     "text": [
      "      Date_of_report  Total_reported\n",
      "48186     2020-07-22            2891\n",
      "48553     2020-07-23            2906\n",
      "48920     2020-07-24            2925\n",
      "49287     2020-07-25            2945\n",
      "49654     2020-07-26            2973\n",
      "50021     2020-07-27            3020\n",
      "50388     2020-07-28            3049\n"
     ]
    }
   ],
   "source": [
    "plot_cumul_reported_last_n_days(cumuldf, 7)"
   ],
   "metadata": {
    "collapsed": false,
    "pycharm": {
     "name": "#%% Cumulative reported cases for the last 14 days\n"
    }
   }
  },
  {
   "cell_type": "markdown",
   "source": [
    "### Cumulative reported cases for the last 14 days"
   ],
   "metadata": {
    "collapsed": false
   }
  },
  {
   "cell_type": "code",
   "execution_count": 110,
   "outputs": [
    {
     "data": {
      "text/plain": "<Figure size 432x288 with 1 Axes>",
      "image/png": "[encoded data removed]"
     },
     "metadata": {
      "needs_background": "light"
     },
     "output_type": "display_data"
    },
    {
     "name": "stdout",
     "output_type": "stream",
     "text": [
      "      Date_of_report  Total_reported\n",
      "45617     2020-07-15            2754\n",
      "45984     2020-07-16            2774\n",
      "46351     2020-07-17            2790\n",
      "46718     2020-07-18            2791\n",
      "47085     2020-07-19            2824\n",
      "47452     2020-07-20            2852\n",
      "47819     2020-07-21            2873\n",
      "48186     2020-07-22            2891\n",
      "48553     2020-07-23            2906\n",
      "48920     2020-07-24            2925\n",
      "49287     2020-07-25            2945\n",
      "49654     2020-07-26            2973\n",
      "50021     2020-07-27            3020\n",
      "50388     2020-07-28            3049\n"
     ]
    }
   ],
   "source": [
    "plot_cumul_reported_last_n_days(cumuldf, 14)"
   ],
   "metadata": {
    "collapsed": false,
    "pycharm": {
     "name": "#%% Cumulative reported cases for the last 14 days\n"
    }
   }
  },
  {
   "cell_type": "markdown",
   "source": [
    "### Cumulative reported cases for the last 30 days"
   ],
   "metadata": {
    "collapsed": false
   }
  },
  {
   "cell_type": "code",
   "execution_count": 111,
   "outputs": [
    {
     "data": {
      "text/plain": "<Figure size 432x288 with 1 Axes>",
      "image/png": "[encoded data removed]"
     },
     "metadata": {
      "needs_background": "light"
     },
     "output_type": "display_data"
    },
    {
     "name": "stdout",
     "output_type": "stream",
     "text": [
      "      Date_of_report  Total_reported\n",
      "39745     2020-06-29            2666\n",
      "40112     2020-06-30            2671\n",
      "40479     2020-07-01            2674\n",
      "40846     2020-07-02            2678\n",
      "41213     2020-07-03            2688\n",
      "41580     2020-07-04            2695\n",
      "41947     2020-07-05            2701\n",
      "42314     2020-07-06            2704\n",
      "42681     2020-07-07            2706\n",
      "43048     2020-07-08            2712\n",
      "43415     2020-07-09            2714\n",
      "43782     2020-07-10            2724\n",
      "44149     2020-07-11            2729\n",
      "44516     2020-07-12            2733\n",
      "44883     2020-07-13            2744\n",
      "45250     2020-07-14            2749\n",
      "45617     2020-07-15            2754\n",
      "45984     2020-07-16            2774\n",
      "46351     2020-07-17            2790\n",
      "46718     2020-07-18            2791\n",
      "47085     2020-07-19            2824\n",
      "47452     2020-07-20            2852\n",
      "47819     2020-07-21            2873\n",
      "48186     2020-07-22            2891\n",
      "48553     2020-07-23            2906\n",
      "48920     2020-07-24            2925\n",
      "49287     2020-07-25            2945\n",
      "49654     2020-07-26            2973\n",
      "50021     2020-07-27            3020\n",
      "50388     2020-07-28            3049\n"
     ]
    }
   ],
   "source": [
    "plot_cumul_reported_last_n_days(cumuldf, 30)"
   ],
   "metadata": {
    "collapsed": false,
    "pycharm": {
     "name": "#%% Cumulative reported cases for the last 30 days\n"
    }
   }
  }
 ],
 "metadata": {
  "kernelspec": {
   "display_name": "Python 3",
   "language": "python",
   "name": "python3"
  },
  "language_info": {
   "codemirror_mode": {
    "name": "ipython",
    "version": 3
   },
   "file_extension": ".py",
   "mimetype": "text/x-python",
   "name": "python",
   "nbconvert_exporter": "python",
   "pygments_lexer": "ipython3",
   "version": "3.7.3"
  }
 },
 "nbformat": 4,
 "nbformat_minor": 1
}