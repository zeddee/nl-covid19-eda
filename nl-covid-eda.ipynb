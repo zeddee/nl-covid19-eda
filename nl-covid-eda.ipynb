{
 "cells": [
  {
   "cell_type": "markdown",
   "metadata": {
    "pycharm": {
     "name": "#%% md\n"
    }
   },
   "source": [
    "# NL COVID 19 data exploration\n",
    "\n",
    "- data from https://data.rivm.nl/covid-19/\n",
    "- taken 19 July 2020\n",
    "\n",
    "## Notes\n",
    "\n",
    "- Given that daily reported numbers are in small quantities\n",
    "(i.e. <100), changes represented in % changes\n",
    "can be highly sensitive.\n",
    "E.g. Changing from 1 to 5 is a 500% change.\n",
    "- But % change is the only way to\n",
    "compare change in qty across different slices\n",
    "of data.\n",
    "- So take those figures with a pinch of salt.\n",
    "- That being said, we are looking for anomalies,\n",
    "so a sufficiently large % change would signal\n",
    "an abnormally large change.\n",
    "- (Also, because I've just slapped this together in a\n",
    "few hours + re-learning how to use pandas/matplotlib,\n",
    "so i haven't put together a way to quickly\n",
    "compare % change across many more slices of data -- see todo)\n",
    "\n",
    "## todo\n",
    "\n",
    "- helper functions to dry code\n",
    "- plot graph that shows week-on-week daily % increase\n",
    "- plot that graph for every week since beginning of data"
   ]
  },
  {
   "cell_type": "code",
   "execution_count": 44,
   "metadata": {
    "pycharm": {
     "name": "#%%\n"
    }
   },
   "outputs": [],
   "source": [
    "import pandas as pd\n",
    "import os\n",
    "from matplotlib.pyplot import grid,plot, xticks,yticks,legend\n",
    "import numpy as np\n",
    "\n",
    "_DATADIR=\"../_data\"\n",
    "\n",
    "# There are two datasets\n",
    "# _DATA_CASES is a CSV file containing data on nationally reported cases\n",
    "# _DATA_CUMUL contains data on cumulative infections, hospitalizations, deaths\n",
    "#_DATA_CASES=\"COVID-19_casus_landelijk.csv\"\n",
    "_DATA_CUMUL=\"COVID-19_aantallen_gemeente_cumulatief.csv\"\n",
    "\n",
    "#cases = pd.read_csv(os.path.join(_DATADIR, _DATA_CASES), delimiter=\";\")\n",
    "cumul = pd.read_csv(os.path.join(_DATADIR, _DATA_CUMUL), delimiter=\";\")"
   ]
  },
  {
   "cell_type": "code",
   "execution_count": 45,
   "metadata": {
    "pycharm": {
     "name": "#%%\n"
    }
   },
   "outputs": [],
   "source": [
    "# NOT USED YET\n",
    "#cases_ams = cases[cases[\"Municipal_health_service\"].isin([\"GGD Amsterdam\"])]\n",
    "#cases_ams.tail()"
   ]
  },
  {
   "cell_type": "markdown",
   "source": [
    "We want only cases from Amsterdam:"
   ],
   "metadata": {
    "collapsed": false,
    "pycharm": {
     "name": "#%% md\n"
    }
   }
  },
  {
   "cell_type": "code",
   "execution_count": 46,
   "metadata": {
    "pycharm": {
     "name": "#%%\n"
    }
   },
   "outputs": [],
   "source": [
    "cumul_ams = cumul[cumul[\"Municipality_name\"].isin([\"Amsterdam\"])]"
   ]
  },
  {
   "cell_type": "markdown",
   "metadata": {
    "pycharm": {
     "name": "#%% md\n"
    }
   },
   "source": [
    "## Cumulative reported cases for the last 30 days"
   ]
  },
  {
   "cell_type": "code",
   "execution_count": 47,
   "metadata": {
    "pycharm": {
     "name": "#%%\n"
    }
   },
   "outputs": [
    {
     "data": {
      "text/plain": "[<matplotlib.lines.Line2D at 0x11d2b6710>]"
     },
     "execution_count": 47,
     "metadata": {},
     "output_type": "execute_result"
    },
    {
     "data": {
      "text/plain": "<Figure size 432x288 with 1 Axes>",
      "image/png": "[encoded data removed]"
     },
     "metadata": {
      "needs_background": "light"
     },
     "output_type": "display_data"
    }
   ],
   "source": [
    "# figure for last 30 days\n",
    "cumul_ams_dates = cumul_ams[\"Date_of_report\"].tail(30)\n",
    "cumul_ams_reported = cumul_ams[\"Total_reported\"].tail(30)\n",
    "\n",
    "from matplotlib.pyplot import plot_date\n",
    "\n",
    "grid(True)\n",
    "xticks(rotation=\"vertical\")\n",
    "yticks(cumul_ams_reported)\n",
    "plot_date(cumul_ams_dates, cumul_ams_reported,xdate=True )\n"
   ]
  },
  {
   "cell_type": "code",
   "execution_count": 48,
   "metadata": {
    "pycharm": {
     "name": "#%%\n"
    }
   },
   "outputs": [
    {
     "data": {
      "text/plain": "[datetime.date(2020, 7, 13),\n datetime.date(2020, 7, 14),\n datetime.date(2020, 7, 15),\n datetime.date(2020, 7, 16),\n datetime.date(2020, 7, 17),\n datetime.date(2020, 7, 18),\n datetime.date(2020, 7, 19)]"
     },
     "execution_count": 48,
     "metadata": {},
     "output_type": "execute_result"
    }
   ],
   "source": [
    "# figure for last 30 days\n",
    "cumul_ams_dates_last7 = cumul_ams[\"Date_of_report\"][-7:]\n",
    "cumul_ams_reported_last7 = cumul_ams[\"Total_reported\"][-7:]\n",
    "cumul_ams_dates_prev7 = cumul_ams[\"Date_of_report\"][-14:-7]\n",
    "cumul_ams_reported_prev7 = cumul_ams[\"Total_reported\"][-14:-7]\n",
    "cumul_ams_dates_3weeks = cumul_ams[\"Date_of_report\"][-21:-14]\n",
    "cumul_ams_reported_3weeks = cumul_ams[\"Total_reported\"][-21:-14]\n",
    "\n",
    "# format dates so we can overlay the plots\n",
    "import datetime\n",
    "\n",
    "cumul_ams_dates_last7_dt = [datetime.datetime.strptime(d, '%Y-%m-%d %H:%M:%S').date() for d in cumul_ams_dates_last7.to_list()]\n",
    "cumul_ams_dates_prev7_dt = [datetime.datetime.strptime(d, '%Y-%m-%d %H:%M:%S').date() for d in cumul_ams_dates_prev7.to_list()]\n",
    "cumul_ams_dates_3weeks_dt = [datetime.datetime.strptime(d, '%Y-%m-%d %H:%M:%S').date() for d in cumul_ams_dates_3weeks.to_list()]\n",
    "\n",
    "concat_dates = []\n",
    "for i in range(0,7):\n",
    "    concat_dates.append(f\"{cumul_ams_dates_last7_dt[i]}/{cumul_ams_dates_prev7_dt[i]}/{cumul_ams_dates_3weeks_dt[i]}\")\n",
    "\n",
    "# days = [\"Monday\",\"Tuesday\",\"Wednesday\",\"Thursday\",\"Friday\", \"Saturday\", \"Sunday\"]\n",
    "cumul_ams_dates_last7_dt"
   ]
  },
  {
   "cell_type": "markdown",
   "source": [
    "## Overlaying reported cases for last 21 days"
   ],
   "metadata": {
    "collapsed": false
   }
  },
  {
   "cell_type": "code",
   "execution_count": 49,
   "outputs": [
    {
     "data": {
      "text/plain": "<matplotlib.legend.Legend at 0x11cc5f3c8>"
     },
     "execution_count": 49,
     "metadata": {},
     "output_type": "execute_result"
    },
    {
     "data": {
      "text/plain": "<Figure size 432x288 with 1 Axes>",
      "image/png": "[encoded data removed]"
     },
     "metadata": {
      "needs_background": "light"
     },
     "output_type": "display_data"
    }
   ],
   "source": [
    "grid(True)\n",
    "xticks(np.arange(0,7,step=1),rotation=\"vertical\")\n",
    "yticks(np.arange(1000,2900,step=10))\n",
    "plot(concat_dates, cumul_ams_reported_3weeks,label=\"Cumlative reported 29/6 – 5/7\")\n",
    "plot(concat_dates, cumul_ams_reported_prev7, label=\"Cumlative reported 6/7 – 12/7\")\n",
    "plot(concat_dates, cumul_ams_reported_last7, label=\"Cumlative reported 13/7 – 19/7\")\n",
    "\n",
    "legend()"
   ],
   "metadata": {
    "collapsed": false,
    "pycharm": {
     "name": "#%%\n"
    }
   }
  },
  {
   "cell_type": "markdown",
   "source": [
    "Last week's numbers"
   ],
   "metadata": {
    "collapsed": false,
    "pycharm": {
     "name": "#%% md\n"
    }
   }
  },
  {
   "cell_type": "code",
   "execution_count": 50,
   "outputs": [
    {
     "data": {
      "text/plain": "            Date_of_report Total_reported\n44516  2020-07-12 10:00:00           2733\n44883  2020-07-13 10:00:00           2744\n45250  2020-07-14 10:00:00           2749\n45617  2020-07-15 10:00:00           2754\n45984  2020-07-16 10:00:00           2774\n46351  2020-07-17 10:00:00           2790\n46718  2020-07-18 10:00:00           2791\n47085  2020-07-19 10:00:00           2824",
      "text/html": "<div>\n<style scoped>\n    .dataframe tbody tr th:only-of-type {\n        vertical-align: middle;\n    }\n\n    .dataframe tbody tr th {\n        vertical-align: top;\n    }\n\n    .dataframe thead th {\n        text-align: right;\n    }\n</style>\n<table border=\"1\" class=\"dataframe\">\n  <thead>\n    <tr style=\"text-align: right;\">\n      <th></th>\n      <th>Date_of_report</th>\n      <th>Total_reported</th>\n    </tr>\n  </thead>\n  <tbody>\n    <tr>\n      <th>44516</th>\n      <td>2020-07-12 10:00:00</td>\n      <td>2733</td>\n    </tr>\n    <tr>\n      <th>44883</th>\n      <td>2020-07-13 10:00:00</td>\n      <td>2744</td>\n    </tr>\n    <tr>\n      <th>45250</th>\n      <td>2020-07-14 10:00:00</td>\n      <td>2749</td>\n    </tr>\n    <tr>\n      <th>45617</th>\n      <td>2020-07-15 10:00:00</td>\n      <td>2754</td>\n    </tr>\n    <tr>\n      <th>45984</th>\n      <td>2020-07-16 10:00:00</td>\n      <td>2774</td>\n    </tr>\n    <tr>\n      <th>46351</th>\n      <td>2020-07-17 10:00:00</td>\n      <td>2790</td>\n    </tr>\n    <tr>\n      <th>46718</th>\n      <td>2020-07-18 10:00:00</td>\n      <td>2791</td>\n    </tr>\n    <tr>\n      <th>47085</th>\n      <td>2020-07-19 10:00:00</td>\n      <td>2824</td>\n    </tr>\n  </tbody>\n</table>\n</div>"
     },
     "execution_count": 50,
     "metadata": {},
     "output_type": "execute_result"
    }
   ],
   "source": [
    "tmp_df = pd.DataFrame([cumul_ams[\"Date_of_report\"],cumul_ams[\"Total_reported\"]],[\"Date_of_report\",\"Total_reported\"]).transpose()\n",
    "last7 = tmp_df[-8:]\n",
    "last7"
   ],
   "metadata": {
    "collapsed": false,
    "pycharm": {
     "name": "#%%\n"
    }
   }
  },
  {
   "cell_type": "code",
   "execution_count": 51,
   "outputs": [
    {
     "data": {
      "text/plain": "[11, 5, 5, 20, 16, 1, 33]"
     },
     "execution_count": 51,
     "metadata": {},
     "output_type": "execute_result"
    }
   ],
   "source": [
    "last7_reported = last7[\"Total_reported\"].to_list()\n",
    "last7_daily_incrm = []\n",
    "for i in range(0,len(last7_reported)):\n",
    "    if i >0:\n",
    "        last7_daily_incrm.append(\n",
    "            last7_reported[i]-last7_reported[i-1]\n",
    "            )\n",
    "\n",
    "last7_daily_incrm"
   ],
   "metadata": {
    "collapsed": false,
    "pycharm": {
     "name": "#%%\n"
    }
   }
  },
  {
   "cell_type": "markdown",
   "source": [
    "So we can see that last week's numbers:\n",
    "\n",
    "- Increased from 2744 to 2824 -- +80\n",
    "-"
   ],
   "metadata": {
    "collapsed": false,
    "pycharm": {
     "name": "#%% md\n"
    }
   }
  },
  {
   "cell_type": "markdown",
   "source": [
    "### Previous week's numbers"
   ],
   "metadata": {
    "collapsed": false,
    "pycharm": {
     "name": "#%% md\n"
    }
   }
  },
  {
   "cell_type": "code",
   "execution_count": 52,
   "outputs": [
    {
     "data": {
      "text/plain": "            Date_of_report Total_reported\n41947  2020-07-05 10:00:00           2701\n42314  2020-07-06 10:00:00           2704\n42681  2020-07-07 10:00:00           2706\n43048  2020-07-08 10:00:00           2712\n43415  2020-07-09 10:00:00           2714\n43782  2020-07-10 10:00:00           2724\n44149  2020-07-11 10:00:00           2729\n44516  2020-07-12 10:00:00           2733",
      "text/html": "<div>\n<style scoped>\n    .dataframe tbody tr th:only-of-type {\n        vertical-align: middle;\n    }\n\n    .dataframe tbody tr th {\n        vertical-align: top;\n    }\n\n    .dataframe thead th {\n        text-align: right;\n    }\n</style>\n<table border=\"1\" class=\"dataframe\">\n  <thead>\n    <tr style=\"text-align: right;\">\n      <th></th>\n      <th>Date_of_report</th>\n      <th>Total_reported</th>\n    </tr>\n  </thead>\n  <tbody>\n    <tr>\n      <th>41947</th>\n      <td>2020-07-05 10:00:00</td>\n      <td>2701</td>\n    </tr>\n    <tr>\n      <th>42314</th>\n      <td>2020-07-06 10:00:00</td>\n      <td>2704</td>\n    </tr>\n    <tr>\n      <th>42681</th>\n      <td>2020-07-07 10:00:00</td>\n      <td>2706</td>\n    </tr>\n    <tr>\n      <th>43048</th>\n      <td>2020-07-08 10:00:00</td>\n      <td>2712</td>\n    </tr>\n    <tr>\n      <th>43415</th>\n      <td>2020-07-09 10:00:00</td>\n      <td>2714</td>\n    </tr>\n    <tr>\n      <th>43782</th>\n      <td>2020-07-10 10:00:00</td>\n      <td>2724</td>\n    </tr>\n    <tr>\n      <th>44149</th>\n      <td>2020-07-11 10:00:00</td>\n      <td>2729</td>\n    </tr>\n    <tr>\n      <th>44516</th>\n      <td>2020-07-12 10:00:00</td>\n      <td>2733</td>\n    </tr>\n  </tbody>\n</table>\n</div>"
     },
     "execution_count": 52,
     "metadata": {},
     "output_type": "execute_result"
    }
   ],
   "source": [
    "tmp_df[-15:-7]"
   ],
   "metadata": {
    "collapsed": false,
    "pycharm": {
     "name": "#%%\n"
    }
   }
  },
  {
   "cell_type": "code",
   "execution_count": 53,
   "outputs": [
    {
     "data": {
      "text/plain": "[3, 2, 6, 2, 10, 5, 4]"
     },
     "execution_count": 53,
     "metadata": {},
     "output_type": "execute_result"
    }
   ],
   "source": [
    "prev7_reported = tmp_df[\"Total_reported\"][-15:-7].to_list()\n",
    "prev7_daily_incrm = []\n",
    "for i in range(0,len(prev7_reported)):\n",
    "    if i >0:\n",
    "        prev7_daily_incrm.append(\n",
    "            prev7_reported[i]-prev7_reported[i-1]\n",
    "            )\n",
    "\n",
    "prev7_daily_incrm"
   ],
   "metadata": {
    "collapsed": false,
    "pycharm": {
     "name": "#%%\n"
    }
   }
  },
  {
   "cell_type": "code",
   "execution_count": 54,
   "outputs": [
    {
     "data": {
      "text/plain": "[7, 5, 3, 4, 10, 7, 6]"
     },
     "execution_count": 54,
     "metadata": {},
     "output_type": "execute_result"
    }
   ],
   "source": [
    "last3weeks = tmp_df[-22:-14]\n",
    "\n",
    "last3weeks_reported = last3weeks[\"Total_reported\"].to_list()\n",
    "last3weeks_daily_incrm = []\n",
    "for i in range(0,len(last3weeks_reported)):\n",
    "    if i >0:\n",
    "        last3weeks_daily_incrm.append(\n",
    "            last3weeks_reported[i]-last3weeks_reported[i-1]\n",
    "            )\n",
    "\n",
    "last3weeks_daily_incrm"
   ],
   "metadata": {
    "collapsed": false,
    "pycharm": {
     "name": "#%%\n"
    }
   }
  },
  {
   "cell_type": "markdown",
   "source": [
    "### Daily increase in cases, week on week:"
   ],
   "metadata": {
    "collapsed": false,
    "pycharm": {
     "name": "#%% md\n"
    }
   }
  },
  {
   "cell_type": "code",
   "execution_count": 55,
   "outputs": [
    {
     "data": {
      "text/plain": "[366.66666666666663, 250.0, 83.33333333333334, 1000.0, 160.0, 20.0, 825.0]"
     },
     "execution_count": 55,
     "metadata": {},
     "output_type": "execute_result"
    }
   ],
   "source": [
    "week_on_week_incrm_percent = []\n",
    "for i in range(0,len(prev7_daily_incrm)):\n",
    "    week_on_week_incrm_percent.append(\n",
    "        last7_daily_incrm[i]/prev7_daily_incrm[i]*100\n",
    "    )\n",
    "\n",
    "week_on_week_incrm_percent"
   ],
   "metadata": {
    "collapsed": false,
    "pycharm": {
     "name": "#%%\n"
    }
   }
  },
  {
   "cell_type": "markdown",
   "source": [
    "### 3 weeks ago vs last week"
   ],
   "metadata": {
    "collapsed": false,
    "pycharm": {
     "name": "#%% md\n"
    }
   }
  },
  {
   "cell_type": "code",
   "execution_count": 56,
   "outputs": [
    {
     "data": {
      "text/plain": "[42.857142857142854,\n 40.0,\n 200.0,\n 50.0,\n 100.0,\n 71.42857142857143,\n 66.66666666666666]"
     },
     "execution_count": 56,
     "metadata": {},
     "output_type": "execute_result"
    }
   ],
   "source": [
    "week_on_week_incrm_percent_3weeks = []\n",
    "for i in range(0,len(prev7_daily_incrm)):\n",
    "    week_on_week_incrm_percent_3weeks.append(\n",
    "        prev7_daily_incrm[i]/last3weeks_daily_incrm[i]*100\n",
    "    )\n",
    "\n",
    "week_on_week_incrm_percent_3weeks"
   ],
   "metadata": {
    "collapsed": false,
    "pycharm": {
     "name": "#%%\n"
    }
   }
  },
  {
   "cell_type": "markdown",
   "source": [
    "### Plot daily increase for 3 weeks"
   ],
   "metadata": {
    "collapsed": false,
    "pycharm": {
     "name": "#%% md\n"
    }
   }
  },
  {
   "cell_type": "code",
   "execution_count": 57,
   "outputs": [
    {
     "data": {
      "text/plain": "<matplotlib.legend.Legend at 0x11d335a20>"
     },
     "execution_count": 57,
     "metadata": {},
     "output_type": "execute_result"
    },
    {
     "data": {
      "text/plain": "<Figure size 432x288 with 1 Axes>",
      "image/png": "[encoded data removed]"
     },
     "metadata": {
      "needs_background": "light"
     },
     "output_type": "display_data"
    }
   ],
   "source": [
    "grid()\n",
    "xticks(np.arange(0,7,step=1),rotation=\"vertical\")\n",
    "yticks(np.arange(0,40,step=1))\n",
    "plot(concat_dates,last7_daily_incrm,label=\"Daily reported increase 13/7 – 19/7\")\n",
    "plot(concat_dates,prev7_daily_incrm,label=\"Daily reported increase 6/7 – 12/7\")\n",
    "plot(concat_dates,last3weeks_daily_incrm, label=\"Daily reported increase \")\n",
    "legend()"
   ],
   "metadata": {
    "collapsed": false,
    "pycharm": {
     "name": "#%%\n"
    }
   }
  },
  {
   "cell_type": "markdown",
   "source": [
    "### Total reported cases increase, week on week:"
   ],
   "metadata": {
    "collapsed": false,
    "pycharm": {
     "name": "#%% md\n"
    }
   }
  },
  {
   "cell_type": "code",
   "execution_count": 58,
   "outputs": [
    {
     "data": {
      "text/plain": "284.375"
     },
     "execution_count": 58,
     "metadata": {},
     "output_type": "execute_result"
    }
   ],
   "source": [
    "sum(last7_daily_incrm)/sum(prev7_daily_incrm)*100"
   ],
   "metadata": {
    "collapsed": false,
    "pycharm": {
     "name": "#%%\n"
    }
   }
  },
  {
   "cell_type": "code",
   "execution_count": 59,
   "outputs": [
    {
     "data": {
      "text/plain": "76.19047619047619"
     },
     "execution_count": 59,
     "metadata": {},
     "output_type": "execute_result"
    }
   ],
   "source": [
    "sum(prev7_daily_incrm)/sum(last3weeks_daily_incrm)*100"
   ],
   "metadata": {
    "collapsed": false,
    "pycharm": {
     "name": "#%%\n"
    }
   }
  }
 ],
 "metadata": {
  "kernelspec": {
   "display_name": "Python 3",
   "language": "python",
   "name": "python3"
  },
  "language_info": {
   "codemirror_mode": {
    "name": "ipython",
    "version": 3
   },
   "file_extension": ".py",
   "mimetype": "text/x-python",
   "name": "python",
   "nbconvert_exporter": "python",
   "pygments_lexer": "ipython3",
   "version": "3.7.3"
  }
 },
 "nbformat": 4,
 "nbformat_minor": 1
}