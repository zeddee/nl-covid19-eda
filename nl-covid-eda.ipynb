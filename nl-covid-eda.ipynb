{
 "cells": [
  {
   "cell_type": "markdown",
   "metadata": {
    "pycharm": {
     "name": "#%% md\n"
    }
   },
   "source": [
    "# NL COVID 19 data exploration\n",
    "\n",
    "- data from https://data.rivm.nl/covid-19/\n",
    "- taken 5 Aug 2020\n",
    "\n",
    "## Notes\n",
    "\n",
    "- Given that daily reported numbers are in small quantities\n",
    "(i.e. <100), changes represented in % changes\n",
    "can be highly sensitive.\n",
    "E.g. Changing from 1 to 5 is a 500% change.\n",
    "- But % change is the only way to\n",
    "compare change in qty across different slices\n",
    "of data.\n",
    "- So take those figures with a pinch of salt.\n",
    "- That being said, we are looking for anomalies,\n",
    "so a sufficiently large % change would signal\n",
    "an abnormally large change."
   ]
  },
  {
   "cell_type": "code",
   "execution_count": 27,
   "metadata": {
    "pycharm": {
     "name": "#%%\n"
    }
   },
   "outputs": [],
   "source": [
    "import pandas as pd\n",
    "import os\n",
    "import matplotlib.pyplot as plt\n",
    "import numpy as np\n",
    "from pprint import pprint\n",
    "import typing\n",
    "\n",
    "# Initial data management\n",
    "_DATADIR=\"../_data\"\n",
    "_DATA_CUMUL=\"COVID-19_aantallen_gemeente_cumulatief-2020-08-05.csv\"\n",
    "cumul = pd.read_csv(os.path.join(_DATADIR, _DATA_CUMUL), delimiter=\";\")\n",
    "cumul[\"Date_of_report\"] = pd.to_datetime(cumul[\"Date_of_report\"]) # set dtype of \"Date_of_report\" to pd.DatetimeTZDtype\n",
    "cumul[\"Date_of_report\"] = cumul[\"Date_of_report\"].dt.normalize() # get date portion of datetime only\n",
    "cumul.sort_values(by=\"Date_of_report\",ascending=True,inplace=True)\n",
    "\n",
    " # Get only cases from Amsterdam:\n",
    "cumul_ams = cumul[cumul[\"Municipality_name\"].isin([\"Amsterdam\"])]\n",
    "\n",
    "# compare day on day increments/deltas\n",
    "def get_daily_delta(df: pd.DataFrame, col: str) -> typing.List[int]:\n",
    "    \"\"\"\n",
    "    Returns list containing day to day changes in reported cases\n",
    "    \"\"\"\n",
    "    daily_delta_column = []\n",
    "    reported = df[col]\n",
    "    for i in range(0,len(reported)):\n",
    "        if i == 0:\n",
    "            daily_delta_column.append(0)\n",
    "            continue # skip this index\n",
    "        daily_delta_column.append(\n",
    "            reported.iloc[i]-reported.iloc[i-1]\n",
    "        )\n",
    "\n",
    "    return daily_delta_column\n",
    "\n",
    "cumul_ams.insert(len(cumul_ams.columns), \"Day\",cumul_ams[\"Date_of_report\"].dt.day_name()) # create new column for day of week\n",
    "cumul_ams[\"Day\"].astype(\"str\")\n",
    "cumul_ams.insert(len(cumul_ams.columns), \"Week\", cumul_ams[\"Date_of_report\"].dt.week) # create new column for week number\n",
    "cumul_ams.insert(len(cumul_ams.columns),\"Daily_delta\",get_daily_delta(cumul_ams, \"Total_reported\")) # add daily delta of total reported to df\n",
    "cumul_ams.insert(len(cumul_ams.columns),\"Deceased_delta\",get_daily_delta(cumul_ams, \"Deceased\")) # add daily delta of total deceased to df\n",
    "cumul_ams.insert(len(cumul_ams.columns),\"Hospital_delta\",get_daily_delta(cumul_ams, \"Hospital_admission\")) # add daily delta of total hospitalized to df"
   ]
  },
  {
   "cell_type": "markdown",
   "metadata": {
    "pycharm": {
     "name": "#%% md\n"
    }
   },
   "source": [
    "### Get only the data we want from dataframe"
   ]
  },
  {
   "cell_type": "code",
   "execution_count": 28,
   "metadata": {
    "pycharm": {
     "name": "#%%\n"
    }
   },
   "outputs": [
    {
     "name": "stdout",
     "output_type": "stream",
     "text": [
      "<class 'pandas.core.frame.DataFrame'>\n",
      "Int64Index: 146 entries, 109 to 53324\n",
      "Data columns (total 9 columns):\n",
      " #   Column              Non-Null Count  Dtype         \n",
      "---  ------              --------------  -----         \n",
      " 0   Date_of_report      146 non-null    datetime64[ns]\n",
      " 1   Day                 146 non-null    object        \n",
      " 2   Week                146 non-null    int64         \n",
      " 3   Daily_delta         146 non-null    int64         \n",
      " 4   Total_reported      146 non-null    int64         \n",
      " 5   Deceased            146 non-null    int64         \n",
      " 6   Deceased_delta      146 non-null    int64         \n",
      " 7   Hospital_admission  146 non-null    int64         \n",
      " 8   Hospital_delta      146 non-null    int64         \n",
      "dtypes: datetime64[ns](1), int64(7), object(1)\n",
      "memory usage: 11.4+ KB\n"
     ]
    }
   ],
   "source": [
    "# create working df with: date, cumulative day of week, week number, reports\n",
    "cumuldf = cumul_ams[\n",
    "    [\"Date_of_report\",\"Day\",\"Week\",\"Daily_delta\", \"Total_reported\", \"Deceased\", \"Deceased_delta\", \"Hospital_admission\", \"Hospital_delta\"]\n",
    "]\n",
    "cumuldf.info()"
   ]
  },
  {
   "cell_type": "markdown",
   "metadata": {
    "pycharm": {
     "name": "#%% md\n"
    }
   },
   "source": [
    "### Data from last 10 days"
   ]
  },
  {
   "cell_type": "code",
   "execution_count": 29,
   "metadata": {
    "pycharm": {
     "name": "#%%\n"
    }
   },
   "outputs": [
    {
     "data": {
      "text/plain": "      Date_of_report        Day  Week  Daily_delta  Total_reported  Deceased  \\\n50021     2020-07-27     Monday    31           47            3020       282   \n50388     2020-07-28    Tuesday    31           29            3049       282   \n50755     2020-07-29  Wednesday    31           27            3076       282   \n51122     2020-07-30   Thursday    31           68            3144       282   \n51489     2020-07-31     Friday    31           43            3187       282   \n51856     2020-08-01   Saturday    31           61            3248       282   \n52223     2020-08-02     Sunday    31           22            3270       282   \n52590     2020-08-03     Monday    32           44            3314       282   \n52957     2020-08-04    Tuesday    32          135            3449       282   \n53324     2020-08-05  Wednesday    32           63            3512       282   \n\n       Deceased_delta  Hospital_admission  Hospital_delta  \n50021               0                 626               0  \n50388               0                 629               3  \n50755               0                 630               1  \n51122               0                 631               1  \n51489               0                 631               0  \n51856               0                 631               0  \n52223               0                 632               1  \n52590               0                 632               0  \n52957               0                 636               4  \n53324               0                 636               0  ",
      "text/html": "<div>\n<style scoped>\n    .dataframe tbody tr th:only-of-type {\n        vertical-align: middle;\n    }\n\n    .dataframe tbody tr th {\n        vertical-align: top;\n    }\n\n    .dataframe thead th {\n        text-align: right;\n    }\n</style>\n<table border=\"1\" class=\"dataframe\">\n  <thead>\n    <tr style=\"text-align: right;\">\n      <th></th>\n      <th>Date_of_report</th>\n      <th>Day</th>\n      <th>Week</th>\n      <th>Daily_delta</th>\n      <th>Total_reported</th>\n      <th>Deceased</th>\n      <th>Deceased_delta</th>\n      <th>Hospital_admission</th>\n      <th>Hospital_delta</th>\n    </tr>\n  </thead>\n  <tbody>\n    <tr>\n      <th>50021</th>\n      <td>2020-07-27</td>\n      <td>Monday</td>\n      <td>31</td>\n      <td>47</td>\n      <td>3020</td>\n      <td>282</td>\n      <td>0</td>\n      <td>626</td>\n      <td>0</td>\n    </tr>\n    <tr>\n      <th>50388</th>\n      <td>2020-07-28</td>\n      <td>Tuesday</td>\n      <td>31</td>\n      <td>29</td>\n      <td>3049</td>\n      <td>282</td>\n      <td>0</td>\n      <td>629</td>\n      <td>3</td>\n    </tr>\n    <tr>\n      <th>50755</th>\n      <td>2020-07-29</td>\n      <td>Wednesday</td>\n      <td>31</td>\n      <td>27</td>\n      <td>3076</td>\n      <td>282</td>\n      <td>0</td>\n      <td>630</td>\n      <td>1</td>\n    </tr>\n    <tr>\n      <th>51122</th>\n      <td>2020-07-30</td>\n      <td>Thursday</td>\n      <td>31</td>\n      <td>68</td>\n      <td>3144</td>\n      <td>282</td>\n      <td>0</td>\n      <td>631</td>\n      <td>1</td>\n    </tr>\n    <tr>\n      <th>51489</th>\n      <td>2020-07-31</td>\n      <td>Friday</td>\n      <td>31</td>\n      <td>43</td>\n      <td>3187</td>\n      <td>282</td>\n      <td>0</td>\n      <td>631</td>\n      <td>0</td>\n    </tr>\n    <tr>\n      <th>51856</th>\n      <td>2020-08-01</td>\n      <td>Saturday</td>\n      <td>31</td>\n      <td>61</td>\n      <td>3248</td>\n      <td>282</td>\n      <td>0</td>\n      <td>631</td>\n      <td>0</td>\n    </tr>\n    <tr>\n      <th>52223</th>\n      <td>2020-08-02</td>\n      <td>Sunday</td>\n      <td>31</td>\n      <td>22</td>\n      <td>3270</td>\n      <td>282</td>\n      <td>0</td>\n      <td>632</td>\n      <td>1</td>\n    </tr>\n    <tr>\n      <th>52590</th>\n      <td>2020-08-03</td>\n      <td>Monday</td>\n      <td>32</td>\n      <td>44</td>\n      <td>3314</td>\n      <td>282</td>\n      <td>0</td>\n      <td>632</td>\n      <td>0</td>\n    </tr>\n    <tr>\n      <th>52957</th>\n      <td>2020-08-04</td>\n      <td>Tuesday</td>\n      <td>32</td>\n      <td>135</td>\n      <td>3449</td>\n      <td>282</td>\n      <td>0</td>\n      <td>636</td>\n      <td>4</td>\n    </tr>\n    <tr>\n      <th>53324</th>\n      <td>2020-08-05</td>\n      <td>Wednesday</td>\n      <td>32</td>\n      <td>63</td>\n      <td>3512</td>\n      <td>282</td>\n      <td>0</td>\n      <td>636</td>\n      <td>0</td>\n    </tr>\n  </tbody>\n</table>\n</div>"
     },
     "execution_count": 29,
     "metadata": {},
     "output_type": "execute_result"
    }
   ],
   "source": [
    "cumuldf.tail(10)"
   ]
  },
  {
   "cell_type": "markdown",
   "source": [
    "### Top 10 days (reported cases)"
   ],
   "metadata": {
    "collapsed": false,
    "pycharm": {
     "name": "#%% md\n"
    }
   }
  },
  {
   "cell_type": "code",
   "execution_count": 30,
   "outputs": [
    {
     "data": {
      "text/plain": "      Date_of_report  Week  Daily_delta  Total_reported  Hospital_delta\n52957     2020-08-04    32          135            3449               4\n2678      2020-03-20    12          110             195              15\n10385     2020-04-10    15           83            1087               2\n12954     2020-04-17    16           73            1413              14\n8550      2020-04-05    14           69             887              17\n51122     2020-07-30    31           68            3144               1\n13321     2020-04-18    16           68            1481               5\n5614      2020-03-28    13           68             483              25\n53324     2020-08-05    32           63            3512               0\n31671     2020-06-07    23           63            2430               3",
      "text/html": "<div>\n<style scoped>\n    .dataframe tbody tr th:only-of-type {\n        vertical-align: middle;\n    }\n\n    .dataframe tbody tr th {\n        vertical-align: top;\n    }\n\n    .dataframe thead th {\n        text-align: right;\n    }\n</style>\n<table border=\"1\" class=\"dataframe\">\n  <thead>\n    <tr style=\"text-align: right;\">\n      <th></th>\n      <th>Date_of_report</th>\n      <th>Week</th>\n      <th>Daily_delta</th>\n      <th>Total_reported</th>\n      <th>Hospital_delta</th>\n    </tr>\n  </thead>\n  <tbody>\n    <tr>\n      <th>52957</th>\n      <td>2020-08-04</td>\n      <td>32</td>\n      <td>135</td>\n      <td>3449</td>\n      <td>4</td>\n    </tr>\n    <tr>\n      <th>2678</th>\n      <td>2020-03-20</td>\n      <td>12</td>\n      <td>110</td>\n      <td>195</td>\n      <td>15</td>\n    </tr>\n    <tr>\n      <th>10385</th>\n      <td>2020-04-10</td>\n      <td>15</td>\n      <td>83</td>\n      <td>1087</td>\n      <td>2</td>\n    </tr>\n    <tr>\n      <th>12954</th>\n      <td>2020-04-17</td>\n      <td>16</td>\n      <td>73</td>\n      <td>1413</td>\n      <td>14</td>\n    </tr>\n    <tr>\n      <th>8550</th>\n      <td>2020-04-05</td>\n      <td>14</td>\n      <td>69</td>\n      <td>887</td>\n      <td>17</td>\n    </tr>\n    <tr>\n      <th>51122</th>\n      <td>2020-07-30</td>\n      <td>31</td>\n      <td>68</td>\n      <td>3144</td>\n      <td>1</td>\n    </tr>\n    <tr>\n      <th>13321</th>\n      <td>2020-04-18</td>\n      <td>16</td>\n      <td>68</td>\n      <td>1481</td>\n      <td>5</td>\n    </tr>\n    <tr>\n      <th>5614</th>\n      <td>2020-03-28</td>\n      <td>13</td>\n      <td>68</td>\n      <td>483</td>\n      <td>25</td>\n    </tr>\n    <tr>\n      <th>53324</th>\n      <td>2020-08-05</td>\n      <td>32</td>\n      <td>63</td>\n      <td>3512</td>\n      <td>0</td>\n    </tr>\n    <tr>\n      <th>31671</th>\n      <td>2020-06-07</td>\n      <td>23</td>\n      <td>63</td>\n      <td>2430</td>\n      <td>3</td>\n    </tr>\n  </tbody>\n</table>\n</div>"
     },
     "execution_count": 30,
     "metadata": {},
     "output_type": "execute_result"
    }
   ],
   "source": [
    "sorted_df = cumuldf[[\"Date_of_report\",\"Week\",\"Daily_delta\",\"Total_reported\",\"Hospital_delta\"]].sort_values(by=\"Daily_delta\",ascending=False)\n",
    "sorted_df.head(10)"
   ],
   "metadata": {
    "collapsed": false,
    "pycharm": {
     "name": "#%%\n"
    }
   }
  },
  {
   "cell_type": "code",
   "execution_count": 31,
   "metadata": {
    "pycharm": {
     "name": "#%%\n"
    }
   },
   "outputs": [],
   "source": [
    "def get_week_start_end(df:pd.DataFrame, week_number:int)->typing.Tuple[str,str]:\n",
    "    \"\"\"\n",
    "    Returns a tuple of (week_start, week_end),\n",
    "    that are two strings:\n",
    "    - week_start is the start date of a week (i.e. dd/mm on that monday)\n",
    "    - week_end is the end date of a week (i.e. dd/mm on that sunday)\n",
    "    \"\"\"\n",
    "    df_week = df[\"Week\"]\n",
    "    # this_week = df[df_week == df_week.max()-week_number]\n",
    "    this_week = df[df_week == week_number]\n",
    "    week_start = this_week.iloc[0][\"Date_of_report\"]\n",
    "    week_start_d_m = f\"{week_start.day}/{week_start.month}\"\n",
    "    week_end = this_week.iloc[-1][\"Date_of_report\"]\n",
    "    week_end_d_m = f\"{week_end.day}/{week_end.month}\"\n",
    "    return week_start_d_m, week_end_d_m\n",
    "\n",
    "\n",
    "def plot_daily_delta_for_last_n_weeks(df:pd.DataFrame, n:int=3):\n",
    "    \"\"\"\n",
    "    Plots n number of weeks\n",
    "    worth of daily deltas in one line chart\n",
    "    \"\"\"\n",
    "    plt.grid(True)\n",
    "    plt.xticks(rotation=\"vertical\")\n",
    "    plt.yticks(np.arange(0, df[\"Daily_delta\"].max(), step=5))\n",
    "\n",
    "    for week in range(0,n):\n",
    "        this_week_number = df[\"Week\"].max() - week\n",
    "        this_week = df[df[\"Week\"] == this_week_number]\n",
    "        week_start_d_m, week_end_d_m = get_week_start_end(df,this_week_number)\n",
    "\n",
    "        plt.plot(this_week[\"Day\"],this_week[\"Daily_delta\"],label=f\"{week_start_d_m} – {week_end_d_m}\")\n",
    "    plt.legend()"
   ]
  },
  {
   "cell_type": "markdown",
   "metadata": {
    "pycharm": {
     "name": "#%% md\n"
    }
   },
   "source": [
    "### Plot day to day change in reported cases, by week"
   ]
  },
  {
   "cell_type": "code",
   "execution_count": 32,
   "metadata": {
    "pycharm": {
     "name": "#%%\n"
    }
   },
   "outputs": [
    {
     "data": {
      "text/plain": "<Figure size 432x288 with 1 Axes>",
      "image/png": "[encoded data removed]"
     },
     "metadata": {
      "needs_background": "light"
     },
     "output_type": "display_data"
    },
    {
     "data": {
      "text/plain": "      Date_of_report  Week  Daily_delta  Total_reported\n51122     2020-07-30    31           68            3144\n51489     2020-07-31    31           43            3187\n51856     2020-08-01    31           61            3248\n52223     2020-08-02    31           22            3270\n52590     2020-08-03    32           44            3314\n52957     2020-08-04    32          135            3449\n53324     2020-08-05    32           63            3512",
      "text/html": "<div>\n<style scoped>\n    .dataframe tbody tr th:only-of-type {\n        vertical-align: middle;\n    }\n\n    .dataframe tbody tr th {\n        vertical-align: top;\n    }\n\n    .dataframe thead th {\n        text-align: right;\n    }\n</style>\n<table border=\"1\" class=\"dataframe\">\n  <thead>\n    <tr style=\"text-align: right;\">\n      <th></th>\n      <th>Date_of_report</th>\n      <th>Week</th>\n      <th>Daily_delta</th>\n      <th>Total_reported</th>\n    </tr>\n  </thead>\n  <tbody>\n    <tr>\n      <th>51122</th>\n      <td>2020-07-30</td>\n      <td>31</td>\n      <td>68</td>\n      <td>3144</td>\n    </tr>\n    <tr>\n      <th>51489</th>\n      <td>2020-07-31</td>\n      <td>31</td>\n      <td>43</td>\n      <td>3187</td>\n    </tr>\n    <tr>\n      <th>51856</th>\n      <td>2020-08-01</td>\n      <td>31</td>\n      <td>61</td>\n      <td>3248</td>\n    </tr>\n    <tr>\n      <th>52223</th>\n      <td>2020-08-02</td>\n      <td>31</td>\n      <td>22</td>\n      <td>3270</td>\n    </tr>\n    <tr>\n      <th>52590</th>\n      <td>2020-08-03</td>\n      <td>32</td>\n      <td>44</td>\n      <td>3314</td>\n    </tr>\n    <tr>\n      <th>52957</th>\n      <td>2020-08-04</td>\n      <td>32</td>\n      <td>135</td>\n      <td>3449</td>\n    </tr>\n    <tr>\n      <th>53324</th>\n      <td>2020-08-05</td>\n      <td>32</td>\n      <td>63</td>\n      <td>3512</td>\n    </tr>\n  </tbody>\n</table>\n</div>"
     },
     "execution_count": 32,
     "metadata": {},
     "output_type": "execute_result"
    }
   ],
   "source": [
    "plot_daily_delta_for_last_n_weeks(cumuldf, n=5)\n",
    "plt.show()\n",
    "\n",
    "cumuldf[[\"Date_of_report\",\"Week\",\"Daily_delta\",\"Total_reported\"]].tail(7)"
   ]
  },
  {
   "cell_type": "code",
   "execution_count": 33,
   "metadata": {
    "pycharm": {
     "name": "#%%\n"
    }
   },
   "outputs": [],
   "source": [
    "def plot_weekly_delta_for_last_n_weeks(df:pd.DataFrame, n:int) -> typing.Dict[str,int]:\n",
    "    \"\"\"\n",
    "    Returns a dict containing weekly delta for the last n weeks,\n",
    "    like: {\"Week n\": int,\"Week n-1\": int, ...}\n",
    "    \"\"\"\n",
    "\n",
    "    weekly_delta = {}\n",
    "    for week in range(0,n):\n",
    "        if df[\"Week\"].max() < week:\n",
    "            print(f\"Week no. {df['Week'].max() - week} does not exist.\")\n",
    "            continue\n",
    "\n",
    "        this_week_num = df[\"Week\"].max() - week\n",
    "        week_delta = df[df[\"Week\"] == this_week_num][\"Daily_delta\"].sum()\n",
    "\n",
    "        if this_week_num == 0:\n",
    "            weekly_delta[f\"Week {this_week_num}\"] = 0\n",
    "            continue\n",
    "        else:\n",
    "            weekly_delta[f\"Week {this_week_num}\"] = week_delta\n",
    "            continue\n",
    "    return weekly_delta\n",
    "\n"
   ]
  },
  {
   "cell_type": "markdown",
   "metadata": {
    "pycharm": {
     "name": "#%% md\n"
    }
   },
   "source": [
    "### Plot week-on-week change in reported cases"
   ]
  },
  {
   "cell_type": "code",
   "execution_count": 34,
   "metadata": {
    "pycharm": {
     "name": "#%%\n"
    }
   },
   "outputs": [
    {
     "data": {
      "text/plain": "<Figure size 432x288 with 1 Axes>",
      "image/png": "[encoded data removed]"
     },
     "metadata": {
      "needs_background": "light"
     },
     "output_type": "display_data"
    },
    {
     "name": "stdout",
     "output_type": "stream",
     "text": [
      "{'Week 28': 32, 'Week 29': 91, 'Week 30': 149, 'Week 31': 297, 'Week 32': 242}\n"
     ]
    }
   ],
   "source": [
    "weekly_delta = plot_weekly_delta_for_last_n_weeks(cumuldf, 5)\n",
    "plt.grid(True)\n",
    "plt.barh(\n",
    "    list(weekly_delta.keys()),\n",
    "    width=np.array(list(weekly_delta.values())),\n",
    "    height=0.5\n",
    ")\n",
    "plt.show()\n",
    "pprint(weekly_delta)"
   ]
  },
  {
   "cell_type": "code",
   "execution_count": 35,
   "metadata": {
    "pycharm": {
     "name": "#%%\n"
    }
   },
   "outputs": [],
   "source": [
    "def weekly_percentage_incr_for_last_n_weeks(df:pd.DataFrame, n:int) -> typing.Dict[str,float]:\n",
    "    weekly_percent_delta = {}\n",
    "    for week in range(0,n):\n",
    "        if df[\"Week\"].max() < week:\n",
    "            print(\n",
    "                f\"Week no. {df['Week'].max() - week} does not exist.\"\n",
    "            )\n",
    "            continue\n",
    "\n",
    "        this_week_num = df[\"Week\"].max() - week\n",
    "        week_delta = df[\n",
    "            df[\"Week\"] == this_week_num\n",
    "        ][\"Daily_delta\"].sum()\n",
    "\n",
    "        if this_week_num == 0:\n",
    "            weekly_percent_delta[\n",
    "                f\"Week {this_week_num}\"] = 0\n",
    "            continue\n",
    "        else:\n",
    "            last_week_delta = df[\n",
    "                df[\"Week\"] == (this_week_num-1)\n",
    "            ][\"Daily_delta\"].sum()\n",
    "\n",
    "            weekly_percent_delta[f\"Week {this_week_num}\"] = \\\n",
    "                ((week_delta-last_week_delta)/last_week_delta)*100\n",
    "\n",
    "    return weekly_percent_delta"
   ]
  },
  {
   "cell_type": "markdown",
   "metadata": {
    "pycharm": {
     "name": "#%% md\n"
    }
   },
   "source": [
    "### Plot week-on-week percentage change in reported cases"
   ]
  },
  {
   "cell_type": "code",
   "execution_count": 36,
   "metadata": {
    "pycharm": {
     "name": "#%%\n"
    }
   },
   "outputs": [
    {
     "data": {
      "text/plain": "<Figure size 432x288 with 1 Axes>",
      "image/png": "[encoded data removed]"
     },
     "metadata": {
      "needs_background": "light"
     },
     "output_type": "display_data"
    },
    {
     "name": "stdout",
     "output_type": "stream",
     "text": [
      "{'Week 28': -23.809523809523807,\n",
      " 'Week 29': 184.375,\n",
      " 'Week 30': 63.73626373626373,\n",
      " 'Week 31': 99.32885906040269,\n",
      " 'Week 32': -18.51851851851852}\n"
     ]
    }
   ],
   "source": [
    "plt.grid(True)\n",
    "weekly_percent_delta = \\\n",
    "    weekly_percentage_incr_for_last_n_weeks(cumuldf,5)\n",
    "plt.barh(\n",
    "    list(weekly_percent_delta.keys()),\n",
    "    width=np.array(list(weekly_percent_delta.values())),\n",
    "    height=0.5)\n",
    "plt.show()\n",
    "pprint(weekly_percent_delta)"
   ]
  },
  {
   "cell_type": "code",
   "execution_count": 37,
   "outputs": [],
   "source": [
    "# Helper function to plot last n days cumulative reported cases\n",
    "\n",
    "def plot_cumul_reported_last_n_days(df:pd.DataFrame,n:int=3, col:str=\"Total_reported\") -> None:\n",
    "    plot_this = df.tail(n)\n",
    "    plt.grid(True)\n",
    "    plt.xticks(rotation=\"vertical\")\n",
    "    plt.yticks(plot_this[col])\n",
    "    plt.plot_date(\n",
    "        plot_this[\"Date_of_report\"].loc[-n:,],\n",
    "        plot_this[col],\n",
    "        xdate=True\n",
    "    )\n",
    "    plt.show()\n",
    "    pprint(df[[\"Date_of_report\", col]].tail(n))"
   ],
   "metadata": {
    "collapsed": false,
    "pycharm": {
     "name": "#%%\n"
    }
   }
  },
  {
   "cell_type": "markdown",
   "source": [
    "### Cumulative reported cases for the last 7 days"
   ],
   "metadata": {
    "collapsed": false,
    "pycharm": {
     "name": "#%% md\n"
    }
   }
  },
  {
   "cell_type": "code",
   "execution_count": 38,
   "outputs": [
    {
     "data": {
      "text/plain": "<Figure size 432x288 with 1 Axes>",
      "image/png": "[encoded data removed]"
     },
     "metadata": {
      "needs_background": "light"
     },
     "output_type": "display_data"
    },
    {
     "name": "stdout",
     "output_type": "stream",
     "text": [
      "      Date_of_report  Total_reported\n",
      "51122     2020-07-30            3144\n",
      "51489     2020-07-31            3187\n",
      "51856     2020-08-01            3248\n",
      "52223     2020-08-02            3270\n",
      "52590     2020-08-03            3314\n",
      "52957     2020-08-04            3449\n",
      "53324     2020-08-05            3512\n"
     ]
    }
   ],
   "source": [
    "plot_cumul_reported_last_n_days(cumuldf, 7, \"Total_reported\")"
   ],
   "metadata": {
    "collapsed": false,
    "pycharm": {
     "name": "#%% Cumulative reported cases for the last 14 days\n"
    }
   }
  },
  {
   "cell_type": "markdown",
   "source": [
    "### Cumulative reported cases for the last 14 days"
   ],
   "metadata": {
    "collapsed": false,
    "pycharm": {
     "name": "#%% md\n"
    }
   }
  },
  {
   "cell_type": "code",
   "execution_count": 39,
   "outputs": [
    {
     "data": {
      "text/plain": "<Figure size 432x288 with 1 Axes>",
      "image/png": "[encoded data removed]"
     },
     "metadata": {
      "needs_background": "light"
     },
     "output_type": "display_data"
    },
    {
     "name": "stdout",
     "output_type": "stream",
     "text": [
      "      Date_of_report  Total_reported\n",
      "48553     2020-07-23            2906\n",
      "48920     2020-07-24            2925\n",
      "49287     2020-07-25            2945\n",
      "49654     2020-07-26            2973\n",
      "50021     2020-07-27            3020\n",
      "50388     2020-07-28            3049\n",
      "50755     2020-07-29            3076\n",
      "51122     2020-07-30            3144\n",
      "51489     2020-07-31            3187\n",
      "51856     2020-08-01            3248\n",
      "52223     2020-08-02            3270\n",
      "52590     2020-08-03            3314\n",
      "52957     2020-08-04            3449\n",
      "53324     2020-08-05            3512\n"
     ]
    }
   ],
   "source": [
    "plot_cumul_reported_last_n_days(cumuldf, 14, \"Total_reported\")"
   ],
   "metadata": {
    "collapsed": false,
    "pycharm": {
     "name": "#%% Cumulative reported cases for the last 14 days\n"
    }
   }
  },
  {
   "cell_type": "markdown",
   "source": [
    "### Cumulative reported cases for the last 30 days"
   ],
   "metadata": {
    "collapsed": false,
    "pycharm": {
     "name": "#%% md\n"
    }
   }
  },
  {
   "cell_type": "code",
   "execution_count": 40,
   "outputs": [
    {
     "data": {
      "text/plain": "<Figure size 432x288 with 1 Axes>",
      "image/png": "[encoded data removed]"
     },
     "metadata": {
      "needs_background": "light"
     },
     "output_type": "display_data"
    },
    {
     "name": "stdout",
     "output_type": "stream",
     "text": [
      "      Date_of_report  Total_reported\n",
      "42681     2020-07-07            2706\n",
      "43048     2020-07-08            2712\n",
      "43415     2020-07-09            2714\n",
      "43782     2020-07-10            2724\n",
      "44149     2020-07-11            2729\n",
      "44516     2020-07-12            2733\n",
      "44883     2020-07-13            2744\n",
      "45250     2020-07-14            2749\n",
      "45617     2020-07-15            2754\n",
      "45984     2020-07-16            2774\n",
      "46351     2020-07-17            2790\n",
      "46718     2020-07-18            2791\n",
      "47085     2020-07-19            2824\n",
      "47452     2020-07-20            2852\n",
      "47819     2020-07-21            2873\n",
      "48186     2020-07-22            2891\n",
      "48553     2020-07-23            2906\n",
      "48920     2020-07-24            2925\n",
      "49287     2020-07-25            2945\n",
      "49654     2020-07-26            2973\n",
      "50021     2020-07-27            3020\n",
      "50388     2020-07-28            3049\n",
      "50755     2020-07-29            3076\n",
      "51122     2020-07-30            3144\n",
      "51489     2020-07-31            3187\n",
      "51856     2020-08-01            3248\n",
      "52223     2020-08-02            3270\n",
      "52590     2020-08-03            3314\n",
      "52957     2020-08-04            3449\n",
      "53324     2020-08-05            3512\n"
     ]
    }
   ],
   "source": [
    "plot_cumul_reported_last_n_days(cumuldf, 30, \"Total_reported\")"
   ],
   "metadata": {
    "collapsed": false,
    "pycharm": {
     "name": "#%% Cumulative reported cases for the last 30 days\n"
    }
   }
  },
  {
   "cell_type": "markdown",
   "source": [
    "### Hospitalization daily delta for last 30 days"
   ],
   "metadata": {
    "collapsed": false,
    "pycharm": {
     "name": "#%% md\n"
    }
   }
  },
  {
   "cell_type": "code",
   "execution_count": 41,
   "outputs": [
    {
     "data": {
      "text/plain": "<Figure size 432x288 with 1 Axes>",
      "image/png": "[encoded data removed]"
     },
     "metadata": {
      "needs_background": "light"
     },
     "output_type": "display_data"
    },
    {
     "name": "stdout",
     "output_type": "stream",
     "text": [
      "      Date_of_report  Hospital_delta\n",
      "42681     2020-07-07               0\n",
      "43048     2020-07-08               0\n",
      "43415     2020-07-09               0\n",
      "43782     2020-07-10               0\n",
      "44149     2020-07-11               1\n",
      "44516     2020-07-12               0\n",
      "44883     2020-07-13               0\n",
      "45250     2020-07-14               0\n",
      "45617     2020-07-15               0\n",
      "45984     2020-07-16               1\n",
      "46351     2020-07-17               0\n",
      "46718     2020-07-18              -2\n",
      "47085     2020-07-19               0\n",
      "47452     2020-07-20               2\n",
      "47819     2020-07-21               1\n",
      "48186     2020-07-22               0\n",
      "48553     2020-07-23               0\n",
      "48920     2020-07-24               2\n",
      "49287     2020-07-25               1\n",
      "49654     2020-07-26               0\n",
      "50021     2020-07-27               0\n",
      "50388     2020-07-28               3\n",
      "50755     2020-07-29               1\n",
      "51122     2020-07-30               1\n",
      "51489     2020-07-31               0\n",
      "51856     2020-08-01               0\n",
      "52223     2020-08-02               1\n",
      "52590     2020-08-03               0\n",
      "52957     2020-08-04               4\n",
      "53324     2020-08-05               0\n"
     ]
    }
   ],
   "source": [
    "plot_cumul_reported_last_n_days(cumuldf, 30, \"Hospital_delta\")"
   ],
   "metadata": {
    "collapsed": false,
    "pycharm": {
     "name": "#%%\n"
    }
   }
  },
  {
   "cell_type": "markdown",
   "source": [
    "### Cumulative hospitalizations for last 30 days"
   ],
   "metadata": {
    "collapsed": false
   }
  },
  {
   "cell_type": "code",
   "execution_count": 42,
   "outputs": [
    {
     "data": {
      "text/plain": "<Figure size 432x288 with 1 Axes>",
      "image/png": "[encoded data removed]"
     },
     "metadata": {
      "needs_background": "light"
     },
     "output_type": "display_data"
    },
    {
     "name": "stdout",
     "output_type": "stream",
     "text": [
      "      Date_of_report  Hospital_admission\n",
      "42681     2020-07-07                 620\n",
      "43048     2020-07-08                 620\n",
      "43415     2020-07-09                 620\n",
      "43782     2020-07-10                 620\n",
      "44149     2020-07-11                 621\n",
      "44516     2020-07-12                 621\n",
      "44883     2020-07-13                 621\n",
      "45250     2020-07-14                 621\n",
      "45617     2020-07-15                 621\n",
      "45984     2020-07-16                 622\n",
      "46351     2020-07-17                 622\n",
      "46718     2020-07-18                 620\n",
      "47085     2020-07-19                 620\n",
      "47452     2020-07-20                 622\n",
      "47819     2020-07-21                 623\n",
      "48186     2020-07-22                 623\n",
      "48553     2020-07-23                 623\n",
      "48920     2020-07-24                 625\n",
      "49287     2020-07-25                 626\n",
      "49654     2020-07-26                 626\n",
      "50021     2020-07-27                 626\n",
      "50388     2020-07-28                 629\n",
      "50755     2020-07-29                 630\n",
      "51122     2020-07-30                 631\n",
      "51489     2020-07-31                 631\n",
      "51856     2020-08-01                 631\n",
      "52223     2020-08-02                 632\n",
      "52590     2020-08-03                 632\n",
      "52957     2020-08-04                 636\n",
      "53324     2020-08-05                 636\n"
     ]
    }
   ],
   "source": [
    "plot_cumul_reported_last_n_days(cumuldf, 30, \"Hospital_admission\")"
   ],
   "metadata": {
    "collapsed": false,
    "pycharm": {
     "name": "#%%\n"
    }
   }
  }
 ],
 "metadata": {
  "kernelspec": {
   "display_name": "Python 3",
   "language": "python",
   "name": "python3"
  },
  "language_info": {
   "codemirror_mode": {
    "name": "ipython",
    "version": 3
   },
   "file_extension": ".py",
   "mimetype": "text/x-python",
   "name": "python",
   "nbconvert_exporter": "python",
   "pygments_lexer": "ipython3",
   "version": "3.7.3"
  }
 },
 "nbformat": 4,
 "nbformat_minor": 1
}