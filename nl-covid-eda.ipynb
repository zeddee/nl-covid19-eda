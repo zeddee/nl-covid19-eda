{
 "cells": [
  {
   "cell_type": "markdown",
   "metadata": {
    "pycharm": {
     "name": "#%% md\n"
    }
   },
   "source": [
    "# NL COVID 19 data exploration\n",
    "\n",
    "- data from https://data.rivm.nl/covid-19/\n",
    "- taken 19 July 2020\n",
    "\n",
    "## Notes\n",
    "\n",
    "- Given that daily reported numbers are in small quantities\n",
    "(i.e. <100), changes represented in % changes\n",
    "can be highly sensitive.\n",
    "E.g. Changing from 1 to 5 is a 500% change.\n",
    "- But % change is the only way to\n",
    "compare change in qty across different slices\n",
    "of data.\n",
    "- So take those figures with a pinch of salt.\n",
    "- That being said, we are looking for anomalies,\n",
    "so a sufficiently large % change would signal\n",
    "an abnormally large change.\n",
    "- (Also, because I've just slapped this together in a\n",
    "few hours + re-learning how to use pandas/matplotlib,\n",
    "so i haven't put together a way to quickly\n",
    "compare % change across many more slices of data -- see todo)\n",
    "\n",
    "## todo\n",
    "\n",
    "- helper functions to dry code\n",
    "- plot graph that shows week-on-week daily % increase\n",
    "- plot that graph for every week since beginning of data"
   ]
  },
  {
   "cell_type": "code",
   "execution_count": 111,
   "outputs": [
    {
     "name": "stdout",
     "output_type": "stream",
     "text": [
      "<class 'pandas.core.frame.DataFrame'>\n",
      "RangeIndex: 48077 entries, 0 to 48076\n",
      "Data columns (total 7 columns):\n",
      " #   Column              Non-Null Count  Dtype         \n",
      "---  ------              --------------  -----         \n",
      " 0   Date_of_report      48077 non-null  datetime64[ns]\n",
      " 1   Municipality_code   46505 non-null  object        \n",
      " 2   Municipality_name   46505 non-null  object        \n",
      " 3   Province            48077 non-null  object        \n",
      " 4   Total_reported      48077 non-null  int64         \n",
      " 5   Hospital_admission  48077 non-null  int64         \n",
      " 6   Deceased            48077 non-null  int64         \n",
      "dtypes: datetime64[ns](1), int64(3), object(3)\n",
      "memory usage: 2.6+ MB\n"
     ]
    },
    {
     "data": {
      "text/plain": "0       2020-03-13\n1       2020-03-13\n2       2020-03-13\n3       2020-03-13\n4       2020-03-13\n           ...    \n48072   2020-07-21\n48073   2020-07-21\n48074   2020-07-21\n48075   2020-07-21\n48076   2020-07-21\nName: Date_of_report, Length: 48077, dtype: datetime64[ns]"
     },
     "execution_count": 111,
     "metadata": {},
     "output_type": "execute_result"
    }
   ],
   "source": [
    "import pandas as pd\n",
    "import os\n",
    "from matplotlib.pyplot import grid,plot, xticks,yticks,legend\n",
    "import numpy as np\n",
    "\n",
    "_DATADIR=\"../_data\"\n",
    "\n",
    "# There are two datasets\n",
    "# _DATA_CASES is a CSV file containing data on nationally reported cases\n",
    "# _DATA_CUMUL contains data on cumulative infections, hospitalizations, deaths\n",
    "#_DATA_CASES=\"COVID-19_casus_landelijk.csv\"\n",
    "_DATA_CUMUL=\"COVID-19_aantallen_gemeente_cumulatief-2020-07-21.csv\"\n",
    "\n",
    "#cases = pd.read_csv(os.path.join(_DATADIR, _DATA_CASES), delimiter=\";\")\n",
    "cumul = pd.read_csv(os.path.join(_DATADIR, _DATA_CUMUL), delimiter=\";\")\n",
    "\n",
    "# set dtype of \"Date_of_report\" to pd.DatetimeTZDtype\n",
    "# get date in YYYY-MM-DD by accessing\n",
    "# cumul_ams[\"Date_of_report\"].dt.date\n",
    "cumul[\"Date_of_report\"] = pd.to_datetime(cumul[\"Date_of_report\"])\n",
    "cumul.info()\n",
    "\n",
    "cumul[\"Date_of_report\"] = cumul[\"Date_of_report\"].dt.normalize() # get date portion of datetime only\n",
    "cumul[\"Date_of_report\"]"
   ],
   "metadata": {
    "collapsed": false,
    "pycharm": {
     "name": "#%%\n"
    }
   }
  },
  {
   "cell_type": "code",
   "execution_count": 112,
   "metadata": {
    "pycharm": {
     "name": "#%%\n"
    }
   },
   "outputs": [],
   "source": [
    "# NOT USED YET\n",
    "#cases_ams = cases[cases[\"Municipal_health_service\"].isin([\"GGD Amsterdam\"])]\n",
    "#cases_ams.tail()"
   ]
  },
  {
   "cell_type": "markdown",
   "metadata": {
    "pycharm": {
     "name": "#%% md\n"
    }
   },
   "source": [
    "We want only cases from Amsterdam:"
   ]
  },
  {
   "cell_type": "code",
   "execution_count": 113,
   "metadata": {
    "pycharm": {
     "name": "#%%\n"
    }
   },
   "outputs": [],
   "source": [
    "cumul_ams = cumul[cumul[\"Municipality_name\"].isin([\"Amsterdam\"])]"
   ]
  },
  {
   "cell_type": "code",
   "execution_count": 114,
   "outputs": [
    {
     "data": {
      "text/plain": "109        Friday\n476      Saturday\n843        Sunday\n1210       Monday\n1577      Tuesday\n           ...   \n46351      Friday\n46718    Saturday\n47085      Sunday\n47452      Monday\n47819     Tuesday\nName: Day, Length: 131, dtype: object"
     },
     "execution_count": 114,
     "metadata": {},
     "output_type": "execute_result"
    }
   ],
   "source": [
    "# create new column for day of week\n",
    "cumul_ams.insert(len(cumul_ams.columns), \"Day\",cumul_ams[\"Date_of_report\"].dt.day_name())\n",
    "cumul_ams[\"Day\"].astype(\"str\")\n"
   ],
   "metadata": {
    "collapsed": false,
    "pycharm": {
     "name": "#%%\n"
    }
   }
  },
  {
   "cell_type": "code",
   "execution_count": 115,
   "outputs": [
    {
     "name": "stdout",
     "output_type": "stream",
     "text": [
      "<class 'pandas.core.frame.DataFrame'>\n",
      "Int64Index: 131 entries, 109 to 47819\n",
      "Data columns (total 3 columns):\n",
      " #   Column          Non-Null Count  Dtype         \n",
      "---  ------          --------------  -----         \n",
      " 0   Date_of_report  131 non-null    datetime64[ns]\n",
      " 1   Day             131 non-null    object        \n",
      " 2   Total_reported  131 non-null    int64         \n",
      "dtypes: datetime64[ns](1), int64(1), object(1)\n",
      "memory usage: 4.1+ KB\n"
     ]
    }
   ],
   "source": [
    "# create working df with only 3 cols:\n",
    "# date, cumulative reports, day of week\n",
    "\n",
    "cumuldf = cumul_ams[[\"Date_of_report\",\"Day\",\"Total_reported\"]]\n",
    "cumuldf.info()"
   ],
   "metadata": {
    "collapsed": false,
    "pycharm": {
     "name": "#%%\n"
    }
   }
  },
  {
   "cell_type": "markdown",
   "metadata": {
    "pycharm": {
     "name": "#%% md\n"
    }
   },
   "source": [
    "## Cumulative reported cases for the last 30 days"
   ]
  },
  {
   "cell_type": "code",
   "execution_count": 129,
   "metadata": {
    "pycharm": {
     "name": "#%%\n"
    }
   },
   "outputs": [
    {
     "data": {
      "text/plain": "[<matplotlib.lines.Line2D at 0x12715ec50>]"
     },
     "execution_count": 129,
     "metadata": {},
     "output_type": "execute_result"
    },
    {
     "data": {
      "text/plain": "<Figure size 432x288 with 1 Axes>",
      "image/png": "[encoded data removed]"
     },
     "metadata": {
      "needs_background": "light"
     },
     "output_type": "display_data"
    }
   ],
   "source": [
    "# figure for last 30 days\n",
    "cumul_ams_dates = cumuldf[\"Date_of_report\"].loc[-30:,]\n",
    "cumul_ams_reported = cumuldf[\"Total_reported\"].loc[-30:,]\n",
    "\n",
    "from matplotlib.pyplot import plot_date\n",
    "\n",
    "grid(True)\n",
    "xticks(rotation=\"vertical\")\n",
    "yticks(cumul_ams_reported)\n",
    "plot_date(cumul_ams_dates, cumul_ams_reported,xdate=True )\n"
   ]
  },
  {
   "cell_type": "code",
   "execution_count": 117,
   "metadata": {
    "pycharm": {
     "name": "#%%\n"
    }
   },
   "outputs": [
    {
     "data": {
      "text/plain": "45617    2020-07-15\n45984    2020-07-16\n46351    2020-07-17\n46718    2020-07-18\n47085    2020-07-19\n47452    2020-07-20\n47819    2020-07-21\nName: Date_of_report, dtype: object"
     },
     "execution_count": 117,
     "metadata": {},
     "output_type": "execute_result"
    }
   ],
   "source": [
    "# reported figures for each week\n",
    "cumul_ams_dates_last7 = cumul_ams[\"Date_of_report\"][-7:]\n",
    "cumul_ams_reported_last7 = cumul_ams[\"Total_reported\"][-7:]\n",
    "cumul_ams_dates_prev7 = cumul_ams[\"Date_of_report\"][-14:-7]\n",
    "cumul_ams_reported_prev7 = cumul_ams[\"Total_reported\"][-14:-7]\n",
    "cumul_ams_dates_3weeks = cumul_ams[\"Date_of_report\"][-21:-14]\n",
    "cumul_ams_reported_3weeks = cumul_ams[\"Total_reported\"][-21:-14]\n",
    "\n",
    "# format dates so we can overlay the plots\n",
    "import datetime\n",
    "\n",
    "cumul_ams_dates_last7_dt = cumul_ams_dates_last7.dt.date\n",
    "cumul_ams_dates_prev7_dt = cumul_ams_dates_prev7.dt.date\n",
    "cumul_ams_dates_3weeks_dt = cumul_ams_dates_3weeks.dt.date\n",
    "\n",
    "concat_dates = []\n",
    "for i in range(0,7):\n",
    "    concat_dates.append(f\"{cumul_ams_dates_last7_dt.to_list()[i]}/{cumul_ams_dates_prev7_dt.to_list()[i]}/{cumul_ams_dates_3weeks_dt.to_list()[i]}\")\n",
    "\n",
    "# days = [\"Monday\",\"Tuesday\",\"Wednesday\",\"Thursday\",\"Friday\", \"Saturday\", \"Sunday\"]\n",
    "cumul_ams_dates_last7_dt"
   ]
  },
  {
   "cell_type": "markdown",
   "metadata": {},
   "source": [
    "## Overlaying reported cases for last 21 days"
   ]
  },
  {
   "cell_type": "code",
   "execution_count": 118,
   "metadata": {
    "pycharm": {
     "name": "#%%\n"
    }
   },
   "outputs": [
    {
     "data": {
      "text/plain": "<matplotlib.legend.Legend at 0x126a3a390>"
     },
     "execution_count": 118,
     "metadata": {},
     "output_type": "execute_result"
    },
    {
     "data": {
      "text/plain": "<Figure size 432x288 with 1 Axes>",
      "image/png": "[encoded data removed]"
     },
     "metadata": {
      "needs_background": "light"
     },
     "output_type": "display_data"
    }
   ],
   "source": [
    "grid(True)\n",
    "xticks(np.arange(0,7,step=1),rotation=\"vertical\")\n",
    "yticks(np.arange(1000,2900,step=10))\n",
    "plot(concat_dates, cumul_ams_reported_3weeks,label=\"Cumlative reported 29/6 – 5/7\")\n",
    "plot(concat_dates, cumul_ams_reported_prev7, label=\"Cumlative reported 6/7 – 12/7\")\n",
    "plot(concat_dates, cumul_ams_reported_last7, label=\"Cumlative reported 13/7 – 19/7\")\n",
    "\n",
    "legend()"
   ]
  },
  {
   "cell_type": "markdown",
   "metadata": {
    "pycharm": {
     "name": "#%% md\n"
    }
   },
   "source": [
    "Last week's numbers"
   ]
  },
  {
   "cell_type": "code",
   "execution_count": 119,
   "metadata": {
    "pycharm": {
     "name": "#%%\n"
    }
   },
   "outputs": [
    {
     "data": {
      "text/plain": "      Date_of_report  Total_reported\n45250     2020-07-14            2749\n45617     2020-07-15            2754\n45984     2020-07-16            2774\n46351     2020-07-17            2790\n46718     2020-07-18            2791\n47085     2020-07-19            2824\n47452     2020-07-20            2852\n47819     2020-07-21            2873",
      "text/html": "<div>\n<style scoped>\n    .dataframe tbody tr th:only-of-type {\n        vertical-align: middle;\n    }\n\n    .dataframe tbody tr th {\n        vertical-align: top;\n    }\n\n    .dataframe thead th {\n        text-align: right;\n    }\n</style>\n<table border=\"1\" class=\"dataframe\">\n  <thead>\n    <tr style=\"text-align: right;\">\n      <th></th>\n      <th>Date_of_report</th>\n      <th>Total_reported</th>\n    </tr>\n  </thead>\n  <tbody>\n    <tr>\n      <th>45250</th>\n      <td>2020-07-14</td>\n      <td>2749</td>\n    </tr>\n    <tr>\n      <th>45617</th>\n      <td>2020-07-15</td>\n      <td>2754</td>\n    </tr>\n    <tr>\n      <th>45984</th>\n      <td>2020-07-16</td>\n      <td>2774</td>\n    </tr>\n    <tr>\n      <th>46351</th>\n      <td>2020-07-17</td>\n      <td>2790</td>\n    </tr>\n    <tr>\n      <th>46718</th>\n      <td>2020-07-18</td>\n      <td>2791</td>\n    </tr>\n    <tr>\n      <th>47085</th>\n      <td>2020-07-19</td>\n      <td>2824</td>\n    </tr>\n    <tr>\n      <th>47452</th>\n      <td>2020-07-20</td>\n      <td>2852</td>\n    </tr>\n    <tr>\n      <th>47819</th>\n      <td>2020-07-21</td>\n      <td>2873</td>\n    </tr>\n  </tbody>\n</table>\n</div>"
     },
     "execution_count": 119,
     "metadata": {},
     "output_type": "execute_result"
    }
   ],
   "source": [
    "tmp_df = cumul_ams[[\"Date_of_report\",\"Total_reported\"]]\n",
    "last7 = tmp_df[-8:]\n",
    "last7"
   ]
  },
  {
   "cell_type": "code",
   "execution_count": 120,
   "metadata": {
    "pycharm": {
     "name": "#%%\n"
    }
   },
   "outputs": [
    {
     "data": {
      "text/plain": "[5, 20, 16, 1, 33, 28, 21]"
     },
     "execution_count": 120,
     "metadata": {},
     "output_type": "execute_result"
    }
   ],
   "source": [
    "last7_reported = last7[\"Total_reported\"].to_list()\n",
    "last7_daily_incrm = []\n",
    "for i in range(0,len(last7_reported)):\n",
    "    if i >0:\n",
    "        last7_daily_incrm.append(\n",
    "            last7_reported[i]-last7_reported[i-1]\n",
    "            )\n",
    "\n",
    "last7_daily_incrm"
   ]
  },
  {
   "cell_type": "markdown",
   "metadata": {
    "pycharm": {
     "name": "#%% md\n"
    }
   },
   "source": [
    "So we can see that last week's numbers:\n",
    "\n",
    "- Increased from 2744 to 2824 -- +80\n",
    "-"
   ]
  },
  {
   "cell_type": "markdown",
   "metadata": {
    "pycharm": {
     "name": "#%% md\n"
    }
   },
   "source": [
    "### Previous week's numbers"
   ]
  },
  {
   "cell_type": "code",
   "execution_count": 121,
   "metadata": {
    "pycharm": {
     "name": "#%%\n"
    }
   },
   "outputs": [
    {
     "data": {
      "text/plain": "      Date_of_report  Total_reported\n42681     2020-07-07            2706\n43048     2020-07-08            2712\n43415     2020-07-09            2714\n43782     2020-07-10            2724\n44149     2020-07-11            2729\n44516     2020-07-12            2733\n44883     2020-07-13            2744\n45250     2020-07-14            2749",
      "text/html": "<div>\n<style scoped>\n    .dataframe tbody tr th:only-of-type {\n        vertical-align: middle;\n    }\n\n    .dataframe tbody tr th {\n        vertical-align: top;\n    }\n\n    .dataframe thead th {\n        text-align: right;\n    }\n</style>\n<table border=\"1\" class=\"dataframe\">\n  <thead>\n    <tr style=\"text-align: right;\">\n      <th></th>\n      <th>Date_of_report</th>\n      <th>Total_reported</th>\n    </tr>\n  </thead>\n  <tbody>\n    <tr>\n      <th>42681</th>\n      <td>2020-07-07</td>\n      <td>2706</td>\n    </tr>\n    <tr>\n      <th>43048</th>\n      <td>2020-07-08</td>\n      <td>2712</td>\n    </tr>\n    <tr>\n      <th>43415</th>\n      <td>2020-07-09</td>\n      <td>2714</td>\n    </tr>\n    <tr>\n      <th>43782</th>\n      <td>2020-07-10</td>\n      <td>2724</td>\n    </tr>\n    <tr>\n      <th>44149</th>\n      <td>2020-07-11</td>\n      <td>2729</td>\n    </tr>\n    <tr>\n      <th>44516</th>\n      <td>2020-07-12</td>\n      <td>2733</td>\n    </tr>\n    <tr>\n      <th>44883</th>\n      <td>2020-07-13</td>\n      <td>2744</td>\n    </tr>\n    <tr>\n      <th>45250</th>\n      <td>2020-07-14</td>\n      <td>2749</td>\n    </tr>\n  </tbody>\n</table>\n</div>"
     },
     "execution_count": 121,
     "metadata": {},
     "output_type": "execute_result"
    }
   ],
   "source": [
    "tmp_df[-15:-7]"
   ]
  },
  {
   "cell_type": "code",
   "execution_count": 122,
   "metadata": {
    "pycharm": {
     "name": "#%%\n"
    }
   },
   "outputs": [
    {
     "data": {
      "text/plain": "[6, 2, 10, 5, 4, 11, 5]"
     },
     "execution_count": 122,
     "metadata": {},
     "output_type": "execute_result"
    }
   ],
   "source": [
    "prev7_reported = tmp_df[\"Total_reported\"][-15:-7].to_list()\n",
    "prev7_daily_incrm = []\n",
    "for i in range(0,len(prev7_reported)):\n",
    "    if i >0:\n",
    "        prev7_daily_incrm.append(\n",
    "            prev7_reported[i]-prev7_reported[i-1]\n",
    "            )\n",
    "\n",
    "prev7_daily_incrm"
   ]
  },
  {
   "cell_type": "code",
   "execution_count": 123,
   "metadata": {
    "pycharm": {
     "name": "#%%\n"
    }
   },
   "outputs": [
    {
     "data": {
      "text/plain": "[3, 4, 10, 7, 6, 3, 2]"
     },
     "execution_count": 123,
     "metadata": {},
     "output_type": "execute_result"
    }
   ],
   "source": [
    "last3weeks = tmp_df[-22:-14]\n",
    "\n",
    "last3weeks_reported = last3weeks[\"Total_reported\"].to_list()\n",
    "last3weeks_daily_incrm = []\n",
    "for i in range(0,len(last3weeks_reported)):\n",
    "    if i >0:\n",
    "        last3weeks_daily_incrm.append(\n",
    "            last3weeks_reported[i]-last3weeks_reported[i-1]\n",
    "            )\n",
    "\n",
    "last3weeks_daily_incrm"
   ]
  },
  {
   "cell_type": "markdown",
   "metadata": {
    "pycharm": {
     "name": "#%% md\n"
    }
   },
   "source": [
    "### Daily increase in cases, week on week:"
   ]
  },
  {
   "cell_type": "code",
   "execution_count": 124,
   "metadata": {
    "pycharm": {
     "name": "#%%\n"
    }
   },
   "outputs": [
    {
     "data": {
      "text/plain": "[83.33333333333334, 1000.0, 160.0, 20.0, 825.0, 254.54545454545453, 420.0]"
     },
     "execution_count": 124,
     "metadata": {},
     "output_type": "execute_result"
    }
   ],
   "source": [
    "week_on_week_incrm_percent = []\n",
    "for i in range(0,len(prev7_daily_incrm)):\n",
    "    week_on_week_incrm_percent.append(\n",
    "        last7_daily_incrm[i]/prev7_daily_incrm[i]*100\n",
    "    )\n",
    "\n",
    "week_on_week_incrm_percent"
   ]
  },
  {
   "cell_type": "markdown",
   "metadata": {
    "pycharm": {
     "name": "#%% md\n"
    }
   },
   "source": [
    "### 3 weeks ago vs last week"
   ]
  },
  {
   "cell_type": "code",
   "execution_count": 125,
   "metadata": {
    "pycharm": {
     "name": "#%%\n"
    }
   },
   "outputs": [
    {
     "data": {
      "text/plain": "[200.0,\n 50.0,\n 100.0,\n 71.42857142857143,\n 66.66666666666666,\n 366.66666666666663,\n 250.0]"
     },
     "execution_count": 125,
     "metadata": {},
     "output_type": "execute_result"
    }
   ],
   "source": [
    "week_on_week_incrm_percent_3weeks = []\n",
    "for i in range(0,len(prev7_daily_incrm)):\n",
    "    week_on_week_incrm_percent_3weeks.append(\n",
    "        prev7_daily_incrm[i]/last3weeks_daily_incrm[i]*100\n",
    "    )\n",
    "\n",
    "week_on_week_incrm_percent_3weeks"
   ]
  },
  {
   "cell_type": "markdown",
   "metadata": {
    "pycharm": {
     "name": "#%% md\n"
    }
   },
   "source": [
    "### Plot daily increase for 3 weeks"
   ]
  },
  {
   "cell_type": "code",
   "execution_count": 126,
   "metadata": {
    "pycharm": {
     "name": "#%%\n"
    }
   },
   "outputs": [
    {
     "data": {
      "text/plain": "<matplotlib.legend.Legend at 0x126eeac50>"
     },
     "execution_count": 126,
     "metadata": {},
     "output_type": "execute_result"
    },
    {
     "data": {
      "text/plain": "<Figure size 432x288 with 1 Axes>",
      "image/png": "[encoded data removed]"
     },
     "metadata": {
      "needs_background": "light"
     },
     "output_type": "display_data"
    }
   ],
   "source": [
    "grid()\n",
    "xticks(np.arange(0,7,step=1),rotation=\"vertical\")\n",
    "yticks(np.arange(0,40,step=1))\n",
    "plot(concat_dates,last7_daily_incrm,label=\"Daily reported increase 13/7 – 19/7\")\n",
    "plot(concat_dates,prev7_daily_incrm,label=\"Daily reported increase 6/7 – 12/7\")\n",
    "plot(concat_dates,last3weeks_daily_incrm, label=\"Daily reported increase \")\n",
    "legend()"
   ]
  },
  {
   "cell_type": "markdown",
   "metadata": {
    "pycharm": {
     "name": "#%% md\n"
    }
   },
   "source": [
    "### Total reported cases increase, week on week:"
   ]
  },
  {
   "cell_type": "code",
   "execution_count": 127,
   "metadata": {
    "pycharm": {
     "name": "#%%\n"
    }
   },
   "outputs": [
    {
     "data": {
      "text/plain": "288.3720930232558"
     },
     "execution_count": 127,
     "metadata": {},
     "output_type": "execute_result"
    }
   ],
   "source": [
    "sum(last7_daily_incrm)/sum(prev7_daily_incrm)*100"
   ]
  },
  {
   "cell_type": "code",
   "execution_count": 128,
   "metadata": {
    "pycharm": {
     "name": "#%%\n"
    }
   },
   "outputs": [
    {
     "data": {
      "text/plain": "122.85714285714286"
     },
     "execution_count": 128,
     "metadata": {},
     "output_type": "execute_result"
    }
   ],
   "source": [
    "sum(prev7_daily_incrm)/sum(last3weeks_daily_incrm)*100"
   ]
  }
 ],
 "metadata": {
  "kernelspec": {
   "display_name": "Python 3",
   "language": "python",
   "name": "python3"
  },
  "language_info": {
   "codemirror_mode": {
    "name": "ipython",
    "version": 3
   },
   "file_extension": ".py",
   "mimetype": "text/x-python",
   "name": "python",
   "nbconvert_exporter": "python",
   "pygments_lexer": "ipython3",
   "version": "3.7.3"
  }
 },
 "nbformat": 4,
 "nbformat_minor": 1
}