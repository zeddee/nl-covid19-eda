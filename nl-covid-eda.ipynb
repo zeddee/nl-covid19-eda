{
 "cells": [
  {
   "cell_type": "markdown",
   "metadata": {
    "pycharm": {
     "name": "#%% md\n"
    }
   },
   "source": [
    "# NL COVID 19 data exploration\n",
    "\n",
    "- data from https://data.rivm.nl/covid-19/\n",
    "- taken 19 July 2020\n",
    "\n",
    "## Notes\n",
    "\n",
    "- Given that daily reported numbers are in small quantities\n",
    "(i.e. <100), changes represented in % changes\n",
    "can be highly sensitive.\n",
    "E.g. Changing from 1 to 5 is a 500% change.\n",
    "- But % change is the only way to\n",
    "compare change in qty across different slices\n",
    "of data.\n",
    "- So take those figures with a pinch of salt.\n",
    "- That being said, we are looking for anomalies,\n",
    "so a sufficiently large % change would signal\n",
    "an abnormally large change.\n",
    "- (Also, because I've just slapped this together in a\n",
    "few hours + re-learning how to use pandas/matplotlib,\n",
    "so i haven't put together a way to quickly\n",
    "compare % change across many more slices of data -- see todo)\n",
    "\n",
    "## todo\n",
    "\n",
    "- helper functions to dry code\n",
    "- plot graph that shows week-on-week daily % increase\n",
    "- plot that graph for every week since beginning of data"
   ]
  },
  {
   "cell_type": "code",
   "execution_count": 21,
   "outputs": [],
   "source": [
    "import pandas as pd\n",
    "import os\n",
    "from matplotlib.pyplot import grid,plot,barh,xticks,yticks,legend,show\n",
    "import numpy as np\n",
    "from pprint import pprint"
   ],
   "metadata": {
    "collapsed": false,
    "pycharm": {
     "name": "#%%\n"
    }
   }
  },
  {
   "cell_type": "code",
   "execution_count": 22,
   "outputs": [
    {
     "name": "stdout",
     "output_type": "stream",
     "text": [
      "<class 'pandas.core.frame.DataFrame'>\n",
      "RangeIndex: 49178 entries, 0 to 49177\n",
      "Data columns (total 7 columns):\n",
      " #   Column              Non-Null Count  Dtype         \n",
      "---  ------              --------------  -----         \n",
      " 0   Date_of_report      49178 non-null  datetime64[ns]\n",
      " 1   Municipality_code   47570 non-null  object        \n",
      " 2   Municipality_name   47570 non-null  object        \n",
      " 3   Province            49178 non-null  object        \n",
      " 4   Total_reported      49178 non-null  int64         \n",
      " 5   Hospital_admission  49178 non-null  int64         \n",
      " 6   Deceased            49178 non-null  int64         \n",
      "dtypes: datetime64[ns](1), int64(3), object(3)\n",
      "memory usage: 2.6+ MB\n"
     ]
    }
   ],
   "source": [
    "_DATADIR=\"../_data\"\n",
    "\n",
    "# There are two datasets\n",
    "# _DATA_CASES is a CSV file containing data on nationally reported cases\n",
    "# _DATA_CUMUL contains data on cumulative infections, hospitalizations, deaths\n",
    "#_DATA_CASES=\"COVID-19_casus_landelijk.csv\"\n",
    "_DATA_CUMUL=\"COVID-19_aantallen_gemeente_cumulatief-2020-07-24.csv\"\n",
    "\n",
    "#cases = pd.read_csv(os.path.join(_DATADIR, _DATA_CASES), delimiter=\";\")\n",
    "cumul = pd.read_csv(os.path.join(_DATADIR, _DATA_CUMUL), delimiter=\";\")\n",
    "\n",
    "# set dtype of \"Date_of_report\" to pd.DatetimeTZDtype\n",
    "# get date in YYYY-MM-DD by accessing\n",
    "# cumul_ams[\"Date_of_report\"].dt.date\n",
    "cumul[\"Date_of_report\"] = pd.to_datetime(cumul[\"Date_of_report\"])\n",
    "cumul.info()\n",
    "\n",
    "cumul[\"Date_of_report\"] = cumul[\"Date_of_report\"].dt.normalize() # get date portion of datetime only\n",
    "cumul.sort_values(by=\"Date_of_report\",ascending=True,inplace=True)\n",
    "# cumul[\"Date_of_report\"]"
   ],
   "metadata": {
    "collapsed": false,
    "pycharm": {
     "name": "#%%\n"
    }
   }
  },
  {
   "cell_type": "code",
   "execution_count": 23,
   "metadata": {
    "pycharm": {
     "name": "#%%\n"
    }
   },
   "outputs": [],
   "source": [
    "# NOT USED YET\n",
    "#cases_ams = cases[cases[\"Municipal_health_service\"].isin([\"GGD Amsterdam\"])]\n",
    "#cases_ams.tail()"
   ]
  },
  {
   "cell_type": "code",
   "metadata": {
    "pycharm": {
     "name": "#%%\n"
    }
   },
   "source": [
    "# We want only cases from Amsterdam:\n",
    "\n",
    "cumul_ams = cumul[cumul[\"Municipality_name\"].isin([\"Amsterdam\"])]\n",
    "\n",
    "# create new column for day of week\n",
    "\n",
    "cumul_ams.insert(len(cumul_ams.columns), \"Day\",cumul_ams[\"Date_of_report\"].dt.day_name())\n",
    "cumul_ams[\"Day\"].astype(\"str\")\n",
    "\n",
    "# create new column for week number\n",
    "cumul_ams.insert(len(cumul_ams.columns), \"Week\", cumul_ams[\"Date_of_report\"].dt.week)\n",
    "cumul_ams[\"Week\"]\n",
    "\n",
    "# cumul_ams[\"Deceased\"][-30:]"
   ],
   "execution_count": 24,
   "outputs": [
    {
     "data": {
      "text/plain": "109      11\n476      11\n843      11\n1210     12\n1577     12\n         ..\n47452    30\n47819    30\n48186    30\n48553    30\n48920    30\nName: Week, Length: 134, dtype: int64"
     },
     "execution_count": 24,
     "metadata": {},
     "output_type": "execute_result"
    }
   ]
  },
  {
   "cell_type": "code",
   "execution_count": 25,
   "outputs": [
    {
     "name": "stdout",
     "output_type": "stream",
     "text": [
      "<class 'pandas.core.frame.DataFrame'>\n",
      "Int64Index: 134 entries, 109 to 48920\n",
      "Data columns (total 4 columns):\n",
      " #   Column          Non-Null Count  Dtype         \n",
      "---  ------          --------------  -----         \n",
      " 0   Date_of_report  134 non-null    datetime64[ns]\n",
      " 1   Day             134 non-null    object        \n",
      " 2   Week            134 non-null    int64         \n",
      " 3   Total_reported  134 non-null    int64         \n",
      "dtypes: datetime64[ns](1), int64(2), object(1)\n",
      "memory usage: 5.2+ KB\n"
     ]
    }
   ],
   "source": [
    "# create working df with:\n",
    "# date, cumulative day of week, week number, reports\n",
    "\n",
    "cumuldf = cumul_ams[[\"Date_of_report\",\"Day\",\"Week\",\"Total_reported\"]]\n",
    "cumuldf.info()"
   ],
   "metadata": {
    "collapsed": false,
    "pycharm": {
     "name": "#%%\n"
    }
   }
  },
  {
   "cell_type": "code",
   "execution_count": 26,
   "outputs": [],
   "source": [
    "# compare day on day increments/deltas\n",
    "\n",
    "def get_daily_delta(df):\n",
    "    daily_delta_column = []\n",
    "    rep = df[\"Total_reported\"]\n",
    "    for i in range(0,len(df[\"Total_reported\"])):\n",
    "        if i == 0:\n",
    "            daily_delta_column.append(0)\n",
    "            continue # skip this index\n",
    "        daily_delta_column.append(rep.iloc[i]-rep.iloc[i-1])\n",
    "\n",
    "    return daily_delta_column\n",
    "\n",
    "daily_delta = get_daily_delta(cumuldf)\n",
    "\n",
    "# add daily deltas to df\n",
    "\n",
    "cumuldf.insert(len(cumuldf.columns),\"Daily_delta\",daily_delta)"
   ],
   "metadata": {
    "collapsed": false,
    "pycharm": {
     "name": "#%%\n"
    }
   }
  },
  {
   "cell_type": "code",
   "execution_count": 27,
   "outputs": [
    {
     "data": {
      "text/plain": "      Date_of_report        Day  Week  Total_reported  Daily_delta\n47452     2020-07-20     Monday    30            2852           28\n47819     2020-07-21    Tuesday    30            2873           21\n48186     2020-07-22  Wednesday    30            2891           18\n48553     2020-07-23   Thursday    30            2906           15\n48920     2020-07-24     Friday    30            2925           19",
      "text/html": "<div>\n<style scoped>\n    .dataframe tbody tr th:only-of-type {\n        vertical-align: middle;\n    }\n\n    .dataframe tbody tr th {\n        vertical-align: top;\n    }\n\n    .dataframe thead th {\n        text-align: right;\n    }\n</style>\n<table border=\"1\" class=\"dataframe\">\n  <thead>\n    <tr style=\"text-align: right;\">\n      <th></th>\n      <th>Date_of_report</th>\n      <th>Day</th>\n      <th>Week</th>\n      <th>Total_reported</th>\n      <th>Daily_delta</th>\n    </tr>\n  </thead>\n  <tbody>\n    <tr>\n      <th>47452</th>\n      <td>2020-07-20</td>\n      <td>Monday</td>\n      <td>30</td>\n      <td>2852</td>\n      <td>28</td>\n    </tr>\n    <tr>\n      <th>47819</th>\n      <td>2020-07-21</td>\n      <td>Tuesday</td>\n      <td>30</td>\n      <td>2873</td>\n      <td>21</td>\n    </tr>\n    <tr>\n      <th>48186</th>\n      <td>2020-07-22</td>\n      <td>Wednesday</td>\n      <td>30</td>\n      <td>2891</td>\n      <td>18</td>\n    </tr>\n    <tr>\n      <th>48553</th>\n      <td>2020-07-23</td>\n      <td>Thursday</td>\n      <td>30</td>\n      <td>2906</td>\n      <td>15</td>\n    </tr>\n    <tr>\n      <th>48920</th>\n      <td>2020-07-24</td>\n      <td>Friday</td>\n      <td>30</td>\n      <td>2925</td>\n      <td>19</td>\n    </tr>\n  </tbody>\n</table>\n</div>"
     },
     "execution_count": 27,
     "metadata": {},
     "output_type": "execute_result"
    }
   ],
   "source": [
    "cumuldf.tail()"
   ],
   "metadata": {
    "collapsed": false,
    "pycharm": {
     "name": "#%%\n"
    }
   }
  },
  {
   "cell_type": "code",
   "execution_count": 28,
   "outputs": [],
   "source": [
    "def plot_daily_delta_for_last_n_weeks(df, n=3):\n",
    "    \"\"\"\n",
    "    Plots n number of weeks\n",
    "    worth of daily deltas in one line chart\n",
    "\n",
    "    :param df:\n",
    "    :type df: pandas.DataFrame\n",
    "    :param n: Last n weeks\n",
    "    :type n: int\n",
    "    :return: None\n",
    "    \"\"\"\n",
    "    grid(True)\n",
    "    xticks(rotation=\"vertical\")\n",
    "    yticks(np.arange(0, df[\"Daily_delta\"].max(), step=1))\n",
    "\n",
    "    for week in range(0,n):\n",
    "        df_week = df[\"Week\"]\n",
    "        this_week = df[df_week == df_week.max()-week]\n",
    "        week_start = this_week.iloc[0][\"Date_of_report\"]\n",
    "        week_start_d_m = f\"{week_start.day}/{week_start.month}\"\n",
    "        week_end = this_week.iloc[-1][\"Date_of_report\"]\n",
    "        week_end_d_m = f\"{week_end.day}/{week_end.month}\"\n",
    "\n",
    "        plot(this_week[\"Day\"],this_week[\"Daily_delta\"],label=f\"{week_start_d_m} – {week_end_d_m}\")\n",
    "    legend()"
   ],
   "metadata": {
    "collapsed": false,
    "pycharm": {
     "name": "#%%\n"
    }
   }
  },
  {
   "cell_type": "markdown",
   "source": [
    "### Plot day to day change in reported cases, by week"
   ],
   "metadata": {
    "collapsed": false,
    "pycharm": {
     "name": "#%% md\n"
    }
   }
  },
  {
   "cell_type": "code",
   "execution_count": 29,
   "outputs": [
    {
     "data": {
      "text/plain": "<Figure size 432x288 with 1 Axes>",
      "image/png": "[encoded data removed]"
     },
     "metadata": {
      "needs_background": "light"
     },
     "output_type": "display_data"
    },
    {
     "data": {
      "text/plain": "      Date_of_report  Week  Daily_delta  Total_reported\n46718     2020-07-18    29            1            2791\n47085     2020-07-19    29           33            2824\n47452     2020-07-20    30           28            2852\n47819     2020-07-21    30           21            2873\n48186     2020-07-22    30           18            2891\n48553     2020-07-23    30           15            2906\n48920     2020-07-24    30           19            2925",
      "text/html": "<div>\n<style scoped>\n    .dataframe tbody tr th:only-of-type {\n        vertical-align: middle;\n    }\n\n    .dataframe tbody tr th {\n        vertical-align: top;\n    }\n\n    .dataframe thead th {\n        text-align: right;\n    }\n</style>\n<table border=\"1\" class=\"dataframe\">\n  <thead>\n    <tr style=\"text-align: right;\">\n      <th></th>\n      <th>Date_of_report</th>\n      <th>Week</th>\n      <th>Daily_delta</th>\n      <th>Total_reported</th>\n    </tr>\n  </thead>\n  <tbody>\n    <tr>\n      <th>46718</th>\n      <td>2020-07-18</td>\n      <td>29</td>\n      <td>1</td>\n      <td>2791</td>\n    </tr>\n    <tr>\n      <th>47085</th>\n      <td>2020-07-19</td>\n      <td>29</td>\n      <td>33</td>\n      <td>2824</td>\n    </tr>\n    <tr>\n      <th>47452</th>\n      <td>2020-07-20</td>\n      <td>30</td>\n      <td>28</td>\n      <td>2852</td>\n    </tr>\n    <tr>\n      <th>47819</th>\n      <td>2020-07-21</td>\n      <td>30</td>\n      <td>21</td>\n      <td>2873</td>\n    </tr>\n    <tr>\n      <th>48186</th>\n      <td>2020-07-22</td>\n      <td>30</td>\n      <td>18</td>\n      <td>2891</td>\n    </tr>\n    <tr>\n      <th>48553</th>\n      <td>2020-07-23</td>\n      <td>30</td>\n      <td>15</td>\n      <td>2906</td>\n    </tr>\n    <tr>\n      <th>48920</th>\n      <td>2020-07-24</td>\n      <td>30</td>\n      <td>19</td>\n      <td>2925</td>\n    </tr>\n  </tbody>\n</table>\n</div>"
     },
     "execution_count": 29,
     "metadata": {},
     "output_type": "execute_result"
    }
   ],
   "source": [
    "plot_daily_delta_for_last_n_weeks(cumuldf, 5)\n",
    "show()\n",
    "\n",
    "cumuldf[[\"Date_of_report\",\"Week\",\"Daily_delta\",\"Total_reported\"]].tail(7)"
   ],
   "metadata": {
    "collapsed": false,
    "pycharm": {
     "name": "#%%\n"
    }
   }
  },
  {
   "cell_type": "code",
   "execution_count": 30,
   "outputs": [],
   "source": [
    "def plot_weekly_delta_for_last_n_weeks(df, n):\n",
    "    \"\"\"\n",
    "    Plot the weekly delta for the last n weeks\n",
    "\n",
    "    :param df: dataframe\n",
    "    :type df: pandas.DataFrame\n",
    "    :param n: Last n weeks\n",
    "    :type n: int\n",
    "    :return: Dict\n",
    "    \"\"\"\n",
    "\n",
    "    weekly_delta = {}\n",
    "    for week in range(0,n):\n",
    "        if df[\"Week\"].max() < week:\n",
    "            print(f\"Week no. {df['Week'].max() - week} does not exist.\")\n",
    "            continue\n",
    "\n",
    "        this_week_num = df[\"Week\"].max() - week\n",
    "        week_delta = df[df[\"Week\"] == this_week_num][\"Daily_delta\"].sum()\n",
    "\n",
    "        if this_week_num == 0:\n",
    "            weekly_delta[f\"Week {this_week_num}\"] = 0\n",
    "            continue\n",
    "        else:\n",
    "            weekly_delta[f\"Week {this_week_num}\"] = week_delta\n",
    "            continue\n",
    "    return weekly_delta\n",
    "\n"
   ],
   "metadata": {
    "collapsed": false,
    "pycharm": {
     "name": "#%%\n"
    }
   }
  },
  {
   "cell_type": "markdown",
   "source": [
    "### Plot week-on-week change in reported cases"
   ],
   "metadata": {
    "collapsed": false,
    "pycharm": {
     "name": "#%% md\n"
    }
   }
  },
  {
   "cell_type": "code",
   "execution_count": 31,
   "outputs": [
    {
     "data": {
      "text/plain": "<Figure size 432x288 with 1 Axes>",
      "image/png": "[encoded data removed]"
     },
     "metadata": {
      "needs_background": "light"
     },
     "output_type": "display_data"
    },
    {
     "name": "stdout",
     "output_type": "stream",
     "text": [
      "{'Week 26': 51, 'Week 27': 42, 'Week 28': 32, 'Week 29': 91, 'Week 30': 101}\n"
     ]
    }
   ],
   "source": [
    "weekly_delta = plot_weekly_delta_for_last_n_weeks(cumuldf, 5)\n",
    "grid(True)\n",
    "barh(list(weekly_delta.keys()), width=np.array(list(weekly_delta.values())),height=0.5)\n",
    "show()\n",
    "pprint(weekly_delta)"
   ],
   "metadata": {
    "collapsed": false,
    "pycharm": {
     "name": "#%%\n"
    }
   }
  },
  {
   "cell_type": "code",
   "execution_count": 39,
   "outputs": [],
   "source": [
    "def weekly_percentage_incr_for_last_n_weeks(df, n):\n",
    "    weekly_percent_delta = {}\n",
    "    for week in range(0,n):\n",
    "        if df[\"Week\"].max() < week:\n",
    "            print(f\"Week no. {df['Week'].max() - week} does not exist.\")\n",
    "            continue\n",
    "\n",
    "        this_week_num = df[\"Week\"].max() - week\n",
    "        week_delta = df[df[\"Week\"] == this_week_num][\"Daily_delta\"].sum()\n",
    "\n",
    "        if this_week_num == 0:\n",
    "            weekly_percent_delta[f\"Week {this_week_num}\"] = 0\n",
    "            continue\n",
    "        else:\n",
    "            last_week_delta = df[df[\"Week\"] == (this_week_num-1)][\"Daily_delta\"].sum()\n",
    "            weekly_percent_delta[f\"Week {this_week_num}\"] = ((week_delta-last_week_delta)/last_week_delta)*100\n",
    "\n",
    "    return weekly_percent_delta\n"
   ],
   "metadata": {
    "collapsed": false,
    "pycharm": {
     "name": "#%%\n"
    }
   }
  },
  {
   "cell_type": "markdown",
   "source": [
    "### Plot week-on-week percentage change in reported cases"
   ],
   "metadata": {
    "collapsed": false,
    "pycharm": {
     "name": "#%% md\n"
    }
   }
  },
  {
   "cell_type": "code",
   "execution_count": 40,
   "outputs": [
    {
     "data": {
      "text/plain": "<Figure size 432x288 with 1 Axes>",
      "image/png": "[encoded data removed]"
     },
     "metadata": {
      "needs_background": "light"
     },
     "output_type": "display_data"
    },
    {
     "name": "stdout",
     "output_type": "stream",
     "text": [
      "{'Week 26': -26.08695652173913,\n",
      " 'Week 27': -17.647058823529413,\n",
      " 'Week 28': -23.809523809523807,\n",
      " 'Week 29': 184.375,\n",
      " 'Week 30': 10.989010989010989}\n"
     ]
    }
   ],
   "source": [
    "grid(True)\n",
    "weekly_percent_delta = weekly_percentage_incr_for_last_n_weeks(cumuldf,5)\n",
    "barh(list(weekly_percent_delta.keys()), width=np.array(list(weekly_percent_delta.values())),height=0.5)\n",
    "show()\n",
    "pprint(weekly_percent_delta)"
   ],
   "metadata": {
    "collapsed": false,
    "pycharm": {
     "name": "#%%\n"
    }
   }
  },
  {
   "cell_type": "markdown",
   "metadata": {
    "pycharm": {
     "name": "#%% md\n"
    }
   },
   "source": [
    "## Cumulative reported cases for the last 30 days"
   ]
  },
  {
   "cell_type": "code",
   "execution_count": 34,
   "metadata": {
    "pycharm": {
     "name": "#%%\n"
    }
   },
   "outputs": [
    {
     "data": {
      "text/plain": "<Figure size 432x288 with 1 Axes>",
      "image/png": "[encoded data removed]"
     },
     "metadata": {
      "needs_background": "light"
     },
     "output_type": "display_data"
    }
   ],
   "source": [
    "# figure for last 30 days\n",
    "last_30 = cumuldf.loc[-30:,]\n",
    "from matplotlib.pyplot import plot_date\n",
    "\n",
    "grid(True)\n",
    "xticks(rotation=\"vertical\")\n",
    "yticks(last_30[\"Total_reported\"])\n",
    "plot_date(last_30[\"Date_of_report\"], last_30[\"Total_reported\"],xdate=True )\n",
    "show()"
   ]
  }
 ],
 "metadata": {
  "kernelspec": {
   "display_name": "Python 3",
   "language": "python",
   "name": "python3"
  },
  "language_info": {
   "codemirror_mode": {
    "name": "ipython",
    "version": 3
   },
   "file_extension": ".py",
   "mimetype": "text/x-python",
   "name": "python",
   "nbconvert_exporter": "python",
   "pygments_lexer": "ipython3",
   "version": "3.7.3"
  }
 },
 "nbformat": 4,
 "nbformat_minor": 1
}