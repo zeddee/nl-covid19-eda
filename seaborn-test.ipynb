{
 "cells": [
  {
   "cell_type": "code",
   "execution_count": 1,
   "outputs": [],
   "source": [
    "import pandas as pd\n",
    "import os\n",
    "import seaborn\n",
    "import typing\n",
    "import matplotlib.pyplot as plt\n",
    "import numpy as np\n",
    "from pprint import pprint\n",
    "\n",
    "# Initial data management\n",
    "_DATADIR=\"../_data\"\n",
    "_DATA_CUMUL=\"COVID-19_aantallen_gemeente_cumulatief-2020-08-02.csv\"\n",
    "cumul = pd.read_csv(os.path.join(_DATADIR, _DATA_CUMUL), delimiter=\";\")\n",
    "cumul[\"Date_of_report\"] = pd.to_datetime(cumul[\"Date_of_report\"]) # set dtype of \"Date_of_report\" to pd.DatetimeTZDtype\n",
    "cumul[\"Date_of_report\"] = cumul[\"Date_of_report\"].dt.normalize() # get date portion of datetime only\n",
    "cumul.sort_values(by=\"Date_of_report\",ascending=True,inplace=True)\n",
    "\n",
    " # Get only cases from Amsterdam:\n",
    "cumul_ams = cumul[cumul[\"Municipality_name\"].isin([\"Amsterdam\"])]\n",
    "\n",
    "# compare day on day increments/deltas\n",
    "def get_daily_delta(df: pd.Dataframe, col: str) -> typing.List[int]:\n",
    "    daily_delta_column = []\n",
    "    reported = df[col]\n",
    "    for i in range(0,len(reported)):\n",
    "        if i == 0:\n",
    "            daily_delta_column.append(0)\n",
    "            continue # skip this index\n",
    "        daily_delta_column.append(\n",
    "            reported.iloc[i]-reported.iloc[i-1]\n",
    "        )\n",
    "\n",
    "    return daily_delta_column\n",
    "\n",
    "cumul_ams.insert(len(cumul_ams.columns), \"Day\",cumul_ams[\"Date_of_report\"].dt.day_name()) # create new column for day of week\n",
    "cumul_ams[\"Day\"].astype(\"str\")\n",
    "cumul_ams.insert(len(cumul_ams.columns), \"Week\", cumul_ams[\"Date_of_report\"].dt.week) # create new column for week number\n",
    "cumul_ams.insert(len(cumul_ams.columns),\"Daily_delta\",get_daily_delta(cumul_ams, \"Total_reported\")) # add daily delta of total reported to df\n",
    "cumul_ams.insert(len(cumul_ams.columns),\"Deceased_delta\",get_daily_delta(cumul_ams, \"Deceased\")) # add daily delta of total deceased to df\n",
    "cumul_ams.insert(len(cumul_ams.columns),\"Hospital_delta\",get_daily_delta(cumul_ams, \"Hospital_admission\")) # add daily delta of total hospitalized to df"
   ],
   "metadata": {
    "collapsed": false,
    "pycharm": {
     "name": "#%%\n"
    }
   }
  },
  {
   "cell_type": "code",
   "execution_count": 7,
   "outputs": [
    {
     "data": {
      "text/plain": "<seaborn.axisgrid.FacetGrid at 0x1250b0438>"
     },
     "execution_count": 7,
     "metadata": {},
     "output_type": "execute_result"
    },
    {
     "data": {
      "text/plain": "<Figure size 360x360 with 1 Axes>",
      "image/png": "[encoded data removed]"
     },
     "metadata": {},
     "output_type": "display_data"
    }
   ],
   "source": [
    "seaborn.set(style=\"darkgrid\")\n",
    "\n",
    "seaborn.relplot(\n",
    "    x=\"Date_of_report\",\n",
    "    y=\"Daily_delta\",\n",
    "    data=cumul_ams.tail(30)[[\"Date_of_report\",\"Daily_delta\"]]\n",
    ")"
   ],
   "metadata": {
    "collapsed": false,
    "pycharm": {
     "name": "#%%\n"
    }
   }
  }
 ],
 "metadata": {
  "kernelspec": {
   "display_name": "Python 3",
   "language": "python",
   "name": "python3"
  },
  "language_info": {
   "codemirror_mode": {
    "name": "ipython",
    "version": 2
   },
   "file_extension": ".py",
   "mimetype": "text/x-python",
   "name": "python",
   "nbconvert_exporter": "python",
   "pygments_lexer": "ipython2",
   "version": "2.7.6"
  }
 },
 "nbformat": 4,
 "nbformat_minor": 0
}